{
  "nbformat": 4,
  "nbformat_minor": 0,
  "metadata": {
    "kernelspec": {
      "name": "python3",
      "display_name": "Python 3"
    },
    "colab": {
      "name": "5_2_meta_learners_issue18_issue36.ipynb",
      "provenance": [],
      "collapsed_sections": [],
      "toc_visible": true
    }
  },
  "cells": [
    {
      "cell_type": "markdown",
      "metadata": {
        "id": "aoxI3DOK9vm2"
      },
      "source": [
        "# 5.2 Meta-learners（T-Learner、S-Learner、X-Learner）の実装\n",
        "\n",
        "本ファイルは、5.2節の実装です。\n",
        "\n",
        "第1章から取り上げている、人事研修の効果について因果推論を実施します。"
      ]
    },
    {
      "cell_type": "markdown",
      "metadata": {
        "id": "2XdIDbdlejUk"
      },
      "source": [
        "## プログラム実行前の設定など"
      ]
    },
    {
      "cell_type": "code",
      "metadata": {
        "id": "XZFKJwcu-_Oj"
      },
      "source": [
        "# 乱数のシードを設定\n",
        "import random\n",
        "import numpy as np\n",
        "\n",
        "np.random.seed(1234)\n",
        "random.seed(1234)\n"
      ],
      "execution_count": 1,
      "outputs": []
    },
    {
      "cell_type": "code",
      "metadata": {
        "id": "hx1idArc_F15"
      },
      "source": [
        "# 使用するパッケージ（ライブラリと関数）を定義\n",
        "# 標準正規分布の生成用\n",
        "from numpy.random import *\n",
        "\n",
        "# グラフの描画用\n",
        "import matplotlib.pyplot as plt\n",
        "\n",
        "# SciPy 平均0、分散1に正規化（標準化）関数\n",
        "import scipy.stats\n",
        "\n",
        "# シグモイド関数をimport\n",
        "from scipy.special import expit\n",
        "\n",
        "# その他\n",
        "import pandas as pd\n"
      ],
      "execution_count": 2,
      "outputs": []
    },
    {
      "cell_type": "markdown",
      "metadata": {
        "id": "AWqP6yeQlI_t"
      },
      "source": [
        "## データの作成"
      ]
    },
    {
      "cell_type": "code",
      "metadata": {
        "id": "DpnGB2KZ_L8x",
        "outputId": "e35f7dd5-7d94-44e2-df82-a5a43422fa1a",
        "colab": {
          "base_uri": "https://localhost:8080/",
          "height": 283
        }
      },
      "source": [
        "# データ数\n",
        "num_data = 500\n",
        "\n",
        "# 部下育成への熱心さ\n",
        "x = np.random.uniform(low=-1, high=1, size=num_data)  # -1から1の一様乱数\n",
        "\n",
        "# 上司が「上司向け：部下とのキャリア面談のポイント研修」に参加したかどうか\n",
        "e_z = randn(num_data)  # ノイズの生成\n",
        "z_prob = expit(-1*-5.0*x+5*e_z)  # xの効果が反対になっていたのを修正Issue：#18\n",
        "Z = np.array([])\n",
        "\n",
        "# 上司が「上司向け：部下とのキャリア面談のポイント研修」に参加したかどうか\n",
        "for i in range(num_data):\n",
        "    Z_i = np.random.choice(2, size=1, p=[1-z_prob[i], z_prob[i]])[0]\n",
        "    Z = np.append(Z, Z_i)\n",
        "\n",
        "# 介入効果の非線形性：部下育成の熱心さxの値に応じて段階的に変化\n",
        "t = np.zeros(num_data)\n",
        "for i in range(num_data):\n",
        "    if x[i] < 0:\n",
        "        t[i] = 0.5\n",
        "    elif x[i] >= 0 and x[i] < 0.5:\n",
        "        t[i] = 0.7\n",
        "    elif x[i] >= 0.5:\n",
        "        t[i] = 1.0\n",
        "\n",
        "e_y = randn(num_data)\n",
        "Y = 2.0 + t*Z + 0.3*x + 0.1*e_y \n",
        "\n",
        "# 介入効果を図で確認\n",
        "plt.scatter(x, t, label=\"treatment-effect\")\n"
      ],
      "execution_count": 3,
      "outputs": [
        {
          "output_type": "execute_result",
          "data": {
            "text/plain": [
              "<matplotlib.collections.PathCollection at 0x7f04dd963ad0>"
            ]
          },
          "metadata": {},
          "execution_count": 3
        },
        {
          "output_type": "display_data",
          "data": {
            "text/plain": [
              "<Figure size 432x288 with 1 Axes>"
            ],
            "image/png": "[encoded data removed]"
          },
          "metadata": {
            "needs_background": "light"
          }
        }
      ]
    },
    {
      "cell_type": "markdown",
      "metadata": {
        "id": "BHcdUlW9koTa"
      },
      "source": [
        "## データをまとめた表を作成し、可視化する"
      ]
    },
    {
      "cell_type": "code",
      "metadata": {
        "id": "1EMwdGIIIPrK",
        "outputId": "cdb92fab-894a-42a8-d031-960bf40bd47c",
        "colab": {
          "base_uri": "https://localhost:8080/",
          "height": 206
        }
      },
      "source": [
        "df = pd.DataFrame({'x': x,\n",
        "                   'Z': Z,\n",
        "                   't': t,\n",
        "                   'Y': Y,\n",
        "                   })\n",
        "\n",
        "df.head()  # 先頭を表示\n"
      ],
      "execution_count": 4,
      "outputs": [
        {
          "output_type": "execute_result",
          "data": {
            "text/plain": [
              "          x    Z    t         Y\n",
              "0 -0.616961  0.0  0.5  1.803183\n",
              "1  0.244218  1.0  0.7  2.668873\n",
              "2 -0.124545  0.0  0.5  2.193123\n",
              "3  0.570717  1.0  1.0  3.245229\n",
              "4  0.559952  1.0  1.0  3.139868"
            ],
            "text/html": [
              "\n",
              "  <div id=\"df-6a7b716a-1935-4790-b88a-6f0cd44ab2b8\">\n",
              "    <div class=\"colab-df-container\">\n",
              "      <div>\n",
              "<style scoped>\n",
              "    .dataframe tbody tr th:only-of-type {\n",
              "        vertical-align: middle;\n",
              "    }\n",
              "\n",
              "    .dataframe tbody tr th {\n",
              "        vertical-align: top;\n",
              "    }\n",
              "\n",
              "    .dataframe thead th {\n",
              "        text-align: right;\n",
              "    }\n",
              "</style>\n",
              "<table border=\"1\" class=\"dataframe\">\n",
              "  <thead>\n",
              "    <tr style=\"text-align: right;\">\n",
              "      <th></th>\n",
              "      <th>x</th>\n",
              "      <th>Z</th>\n",
              "      <th>t</th>\n",
              "      <th>Y</th>\n",
              "    </tr>\n",
              "  </thead>\n",
              "  <tbody>\n",
              "    <tr>\n",
              "      <th>0</th>\n",
              "      <td>-0.616961</td>\n",
              "      <td>0.0</td>\n",
              "      <td>0.5</td>\n",
              "      <td>1.803183</td>\n",
              "    </tr>\n",
              "    <tr>\n",
              "      <th>1</th>\n",
              "      <td>0.244218</td>\n",
              "      <td>1.0</td>\n",
              "      <td>0.7</td>\n",
              "      <td>2.668873</td>\n",
              "    </tr>\n",
              "    <tr>\n",
              "      <th>2</th>\n",
              "      <td>-0.124545</td>\n",
              "      <td>0.0</td>\n",
              "      <td>0.5</td>\n",
              "      <td>2.193123</td>\n",
              "    </tr>\n",
              "    <tr>\n",
              "      <th>3</th>\n",
              "      <td>0.570717</td>\n",
              "      <td>1.0</td>\n",
              "      <td>1.0</td>\n",
              "      <td>3.245229</td>\n",
              "    </tr>\n",
              "    <tr>\n",
              "      <th>4</th>\n",
              "      <td>0.559952</td>\n",
              "      <td>1.0</td>\n",
              "      <td>1.0</td>\n",
              "      <td>3.139868</td>\n",
              "    </tr>\n",
              "  </tbody>\n",
              "</table>\n",
              "</div>\n",
              "      <button class=\"colab-df-convert\" onclick=\"convertToInteractive('df-6a7b716a-1935-4790-b88a-6f0cd44ab2b8')\"\n",
              "              title=\"Convert this dataframe to an interactive table.\"\n",
              "              style=\"display:none;\">\n",
              "        \n",
              "  <svg xmlns=\"http://www.w3.org/2000/svg\" height=\"24px\"viewBox=\"0 0 24 24\"\n",
              "       width=\"24px\">\n",
              "    <path d=\"M0 0h24v24H0V0z\" fill=\"none\"/>\n",
              "    <path d=\"M18.56 5.44l.94 2.06.94-2.06 2.06-.94-2.06-.94-.94-2.06-.94 2.06-2.06.94zm-11 1L8.5 8.5l.94-2.06 2.06-.94-2.06-.94L8.5 2.5l-.94 2.06-2.06.94zm10 10l.94 2.06.94-2.06 2.06-.94-2.06-.94-.94-2.06-.94 2.06-2.06.94z\"/><path d=\"M17.41 7.96l-1.37-1.37c-.4-.4-.92-.59-1.43-.59-.52 0-1.04.2-1.43.59L10.3 9.45l-7.72 7.72c-.78.78-.78 2.05 0 2.83L4 21.41c.39.39.9.59 1.41.59.51 0 1.02-.2 1.41-.59l7.78-7.78 2.81-2.81c.8-.78.8-2.07 0-2.86zM5.41 20L4 18.59l7.72-7.72 1.47 1.35L5.41 20z\"/>\n",
              "  </svg>\n",
              "      </button>\n",
              "      \n",
              "  <style>\n",
              "    .colab-df-container {\n",
              "      display:flex;\n",
              "      flex-wrap:wrap;\n",
              "      gap: 12px;\n",
              "    }\n",
              "\n",
              "    .colab-df-convert {\n",
              "      background-color: #E8F0FE;\n",
              "      border: none;\n",
              "      border-radius: 50%;\n",
              "      cursor: pointer;\n",
              "      display: none;\n",
              "      fill: #1967D2;\n",
              "      height: 32px;\n",
              "      padding: 0 0 0 0;\n",
              "      width: 32px;\n",
              "    }\n",
              "\n",
              "    .colab-df-convert:hover {\n",
              "      background-color: #E2EBFA;\n",
              "      box-shadow: 0px 1px 2px rgba(60, 64, 67, 0.3), 0px 1px 3px 1px rgba(60, 64, 67, 0.15);\n",
              "      fill: #174EA6;\n",
              "    }\n",
              "\n",
              "    [theme=dark] .colab-df-convert {\n",
              "      background-color: #3B4455;\n",
              "      fill: #D2E3FC;\n",
              "    }\n",
              "\n",
              "    [theme=dark] .colab-df-convert:hover {\n",
              "      background-color: #434B5C;\n",
              "      box-shadow: 0px 1px 3px 1px rgba(0, 0, 0, 0.15);\n",
              "      filter: drop-shadow(0px 1px 2px rgba(0, 0, 0, 0.3));\n",
              "      fill: #FFFFFF;\n",
              "    }\n",
              "  </style>\n",
              "\n",
              "      <script>\n",
              "        const buttonEl =\n",
              "          document.querySelector('#df-6a7b716a-1935-4790-b88a-6f0cd44ab2b8 button.colab-df-convert');\n",
              "        buttonEl.style.display =\n",
              "          google.colab.kernel.accessAllowed ? 'block' : 'none';\n",
              "\n",
              "        async function convertToInteractive(key) {\n",
              "          const element = document.querySelector('#df-6a7b716a-1935-4790-b88a-6f0cd44ab2b8');\n",
              "          const dataTable =\n",
              "            await google.colab.kernel.invokeFunction('convertToInteractive',\n",
              "                                                     [key], {});\n",
              "          if (!dataTable) return;\n",
              "\n",
              "          const docLinkHtml = 'Like what you see? Visit the ' +\n",
              "            '<a target=\"_blank\" href=https://colab.research.google.com/notebooks/data_table.ipynb>data table notebook</a>'\n",
              "            + ' to learn more about interactive tables.';\n",
              "          element.innerHTML = '';\n",
              "          dataTable['output_type'] = 'display_data';\n",
              "          await google.colab.output.renderOutput(dataTable, element);\n",
              "          const docLink = document.createElement('div');\n",
              "          docLink.innerHTML = docLinkHtml;\n",
              "          element.appendChild(docLink);\n",
              "        }\n",
              "      </script>\n",
              "    </div>\n",
              "  </div>\n",
              "  "
            ]
          },
          "metadata": {},
          "execution_count": 4
        }
      ]
    },
    {
      "cell_type": "code",
      "metadata": {
        "id": "L6Tb2Hjk9vno",
        "outputId": "3e0ec3d4-976a-4813-9284-c01aa9015fd2",
        "colab": {
          "base_uri": "https://localhost:8080/",
          "height": 283
        }
      },
      "source": [
        "plt.scatter(x, Y)\n"
      ],
      "execution_count": 5,
      "outputs": [
        {
          "output_type": "execute_result",
          "data": {
            "text/plain": [
              "<matplotlib.collections.PathCollection at 0x7f04dd4892d0>"
            ]
          },
          "metadata": {},
          "execution_count": 5
        },
        {
          "output_type": "display_data",
          "data": {
            "text/plain": [
              "<Figure size 432x288 with 1 Axes>"
            ],
            "image/png": "[encoded data removed]"
          },
          "metadata": {
            "needs_background": "light"
          }
        }
      ]
    },
    {
      "cell_type": "markdown",
      "metadata": {
        "id": "AeC7Uv29KsXC"
      },
      "source": [
        "## T-Learner"
      ]
    },
    {
      "cell_type": "code",
      "metadata": {
        "id": "EZZFqyFB9vn1"
      },
      "source": [
        "# 集団を2つに分ける\n",
        "df_0 = df[df.Z == 0.0]  # 介入を受けていない集団\n",
        "df_1 = df[df.Z == 1.0]  # 介入を受けた集団\n"
      ],
      "execution_count": 6,
      "outputs": []
    },
    {
      "cell_type": "code",
      "metadata": {
        "id": "xp2P-IDT9vql",
        "outputId": "188bf4e2-dc89-4e83-ba99-b51f625f3fb8",
        "colab": {
          "base_uri": "https://localhost:8080/"
        }
      },
      "source": [
        "# ランダムフォレストモデルを作成\n",
        "from sklearn.ensemble import RandomForestRegressor\n",
        "\n",
        "# 介入を受けていないモデル\n",
        "reg_0 = RandomForestRegressor(max_depth=3)\n",
        "reg_0.fit(df_0[[\"x\"]], df_0[[\"Y\"]])\n",
        "\n",
        "# 介入を受けたモデル\n",
        "reg_1 = RandomForestRegressor(max_depth=3)\n",
        "reg_1.fit(df_1[[\"x\"]], df_1[[\"Y\"]])\n"
      ],
      "execution_count": 7,
      "outputs": [
        {
          "output_type": "stream",
          "name": "stderr",
          "text": [
            "/usr/local/lib/python3.7/dist-packages/ipykernel_launcher.py:6: DataConversionWarning: A column-vector y was passed when a 1d array was expected. Please change the shape of y to (n_samples,), for example using ravel().\n",
            "  \n",
            "/usr/local/lib/python3.7/dist-packages/ipykernel_launcher.py:10: DataConversionWarning: A column-vector y was passed when a 1d array was expected. Please change the shape of y to (n_samples,), for example using ravel().\n",
            "  # Remove the CWD from sys.path while we load stuff.\n"
          ]
        },
        {
          "output_type": "execute_result",
          "data": {
            "text/plain": [
              "RandomForestRegressor(max_depth=3)"
            ]
          },
          "metadata": {},
          "execution_count": 7
        }
      ]
    },
    {
      "cell_type": "code",
      "metadata": {
        "id": "Rx2_b0CD9vqw",
        "outputId": "788c7814-6ee3-40b2-9763-1c9529401781",
        "colab": {
          "base_uri": "https://localhost:8080/"
        }
      },
      "source": [
        "# ATEを求める\n",
        "mu_0 = reg_0.predict(df[[\"x\"]])\n",
        "mu_1 = reg_1.predict(df[[\"x\"]])\n",
        "\n",
        "ATE = (mu_1-mu_0).mean()\n",
        "print(\"ATE：\", ATE)\n"
      ],
      "execution_count": 8,
      "outputs": [
        {
          "output_type": "stream",
          "name": "stdout",
          "text": [
            "ATE： 0.6678485877933638\n"
          ]
        }
      ]
    },
    {
      "cell_type": "code",
      "metadata": {
        "id": "XvOWVBt99vq7",
        "outputId": "ab3769f1-30c3-4f56-88b0-600bab6f092a",
        "colab": {
          "base_uri": "https://localhost:8080/"
        }
      },
      "source": [
        "# 処置群における平均処置効果ATTと、対照群における平均処置効果ATU\n",
        "ATT = df_1[\"Y\"] - reg_0.predict(df_1[[\"x\"]])\n",
        "ATU = reg_1.predict(df_0[[\"x\"]]) - df_0[\"Y\"]\n",
        "\n",
        "print(\"ATT：\", ATT.mean())\n",
        "print(\"ATU：\", ATU.mean())\n"
      ],
      "execution_count": 9,
      "outputs": [
        {
          "output_type": "stream",
          "name": "stdout",
          "text": [
            "ATT： 0.7338369884256872\n",
            "ATU： 0.6090862934128775\n"
          ]
        }
      ]
    },
    {
      "cell_type": "code",
      "metadata": {
        "id": "8WXoUe6E9vrE",
        "outputId": "a7095859-00ee-4b6c-e039-75ad6e02dbb2",
        "colab": {
          "base_uri": "https://localhost:8080/",
          "height": 283
        }
      },
      "source": [
        "# 推定された治療効果を各人ごとに求めます\n",
        "t_estimated = reg_1.predict(\n",
        "    df[[\"x\"]]) - reg_0.predict(df[[\"x\"]])\n",
        "plt.scatter(df[[\"x\"]], t_estimated,\n",
        "            label=\"estimated_treatment-effect\")\n",
        "\n",
        "# 正解のグラフを作成\n",
        "x_index = np.arange(-1, 1, 0.01)\n",
        "t_ans = np.zeros(len(x_index))\n",
        "for i in range(len(x_index)):\n",
        "    if x_index[i] < 0:\n",
        "        t_ans[i] = 0.5\n",
        "    elif x_index[i] >= 0 and x_index[i] < 0.5:\n",
        "        t_ans[i] = 0.7\n",
        "    elif x_index[i] >= 0.5:\n",
        "        t_ans[i] = 1.0\n",
        "\n",
        "\n",
        "# 正解を描画\n",
        "plt.plot(x_index, t_ans, color='black', ls='--', label='Baseline')\n"
      ],
      "execution_count": 10,
      "outputs": [
        {
          "output_type": "execute_result",
          "data": {
            "text/plain": [
              "[<matplotlib.lines.Line2D at 0x7f04dbb3ea10>]"
            ]
          },
          "metadata": {},
          "execution_count": 10
        },
        {
          "output_type": "display_data",
          "data": {
            "text/plain": [
              "<Figure size 432x288 with 1 Axes>"
            ],
            "image/png": "[encoded data removed]"
          },
          "metadata": {
            "needs_background": "light"
          }
        }
      ]
    },
    {
      "cell_type": "markdown",
      "metadata": {
        "id": "tmYzmE5NTf_p"
      },
      "source": [
        "## S-Learner"
      ]
    },
    {
      "cell_type": "code",
      "metadata": {
        "id": "oLPw7a27TdTA",
        "outputId": "19e713a5-bac7-4c09-f6e0-3e863fe4dc3a",
        "colab": {
          "base_uri": "https://localhost:8080/"
        }
      },
      "source": [
        "# ランダムフォレストモデルを作成\n",
        "from sklearn.ensemble import RandomForestRegressor\n",
        "\n",
        "# モデルを学習\n",
        "reg = RandomForestRegressor(max_depth=4)\n",
        "X = df.loc[:, [\"x\", \"Z\"]]\n",
        "reg.fit(X, df[[\"Y\"]])\n"
      ],
      "execution_count": 14,
      "outputs": [
        {
          "output_type": "stream",
          "name": "stderr",
          "text": [
            "/usr/local/lib/python3.7/dist-packages/ipykernel_launcher.py:7: DataConversionWarning: A column-vector y was passed when a 1d array was expected. Please change the shape of y to (n_samples,), for example using ravel().\n",
            "  import sys\n"
          ]
        },
        {
          "output_type": "execute_result",
          "data": {
            "text/plain": [
              "RandomForestRegressor(max_depth=4)"
            ]
          },
          "metadata": {},
          "execution_count": 14
        }
      ]
    },
    {
      "cell_type": "code",
      "metadata": {
        "id": "IJmgnebQTfkB",
        "outputId": "4d59898f-a47e-4f31-8ee7-e15fb138374c",
        "colab": {
          "base_uri": "https://localhost:8080/"
        }
      },
      "source": [
        "# 処置が0と1の状態を作成する\n",
        "X_0 = X.copy()\n",
        "X_0[\"Z\"] = 0.0\n",
        "\n",
        "X_1 = X.copy()\n",
        "X_1[\"Z\"] = 1.0\n",
        "\n",
        "# ATEの計算\n",
        "ATE = (reg.predict(X_1)-reg.predict(X_0)).mean()\n",
        "print(\"ATE：\", ATE)\n"
      ],
      "execution_count": 15,
      "outputs": [
        {
          "output_type": "stream",
          "name": "stdout",
          "text": [
            "ATE： 0.6686144361959908\n"
          ]
        }
      ]
    },
    {
      "cell_type": "code",
      "metadata": {
        "id": "sv1NNZi8TjUJ",
        "outputId": "1b660455-1f1e-43e2-e548-1aec5d873a02",
        "colab": {
          "base_uri": "https://localhost:8080/",
          "height": 283
        }
      },
      "source": [
        "# 推定された治療効果を各人ごとに求めます\n",
        "t_estimated = reg.predict(X_1)-reg.predict(X_0)\n",
        "plt.scatter(df[[\"x\"]], t_estimated,\n",
        "            label=\"estimated_treatment-effect\")\n",
        "\n",
        "# 正解を描画\n",
        "plt.plot(x_index, t_ans, color='black', ls='--', label='Baseline')\n"
      ],
      "execution_count": 16,
      "outputs": [
        {
          "output_type": "execute_result",
          "data": {
            "text/plain": [
              "[<matplotlib.lines.Line2D at 0x7f04db8beed0>]"
            ]
          },
          "metadata": {},
          "execution_count": 16
        },
        {
          "output_type": "display_data",
          "data": {
            "text/plain": [
              "<Figure size 432x288 with 1 Axes>"
            ],
            "image/png": "[encoded data removed]"
          },
          "metadata": {
            "needs_background": "light"
          }
        }
      ]
    },
    {
      "cell_type": "markdown",
      "metadata": {
        "id": "gCPyyuXWb_ym"
      },
      "source": [
        "## X-Learner"
      ]
    },
    {
      "cell_type": "code",
      "metadata": {
        "id": "Aq7lb2fkcDDU",
        "outputId": "28185497-7706-4bf7-edac-495a63df06ce",
        "colab": {
          "base_uri": "https://localhost:8080/"
        }
      },
      "source": [
        "# T-LearnerでM0とM1を求める\n",
        "from sklearn.ensemble import RandomForestRegressor\n",
        "\n",
        "# 集団を2つに分ける\n",
        "df_0 = df[df.Z == 0.0]  # 介入を受けていない集団\n",
        "df_1 = df[df.Z == 1.0]  # 介入を受けた集団\n",
        "\n",
        "# 介入を受けていないモデル\n",
        "M0 = RandomForestRegressor(max_depth=3)\n",
        "M0.fit(df_0[[\"x\"]], df_0[[\"Y\"]])\n",
        "\n",
        "# 介入を受けたモデル\n",
        "M1 = RandomForestRegressor(max_depth=3)\n",
        "M1.fit(df_1[[\"x\"]], df_1[[\"Y\"]])\n"
      ],
      "execution_count": 17,
      "outputs": [
        {
          "output_type": "stream",
          "name": "stderr",
          "text": [
            "/usr/local/lib/python3.7/dist-packages/ipykernel_launcher.py:10: DataConversionWarning: A column-vector y was passed when a 1d array was expected. Please change the shape of y to (n_samples,), for example using ravel().\n",
            "  # Remove the CWD from sys.path while we load stuff.\n",
            "/usr/local/lib/python3.7/dist-packages/ipykernel_launcher.py:14: DataConversionWarning: A column-vector y was passed when a 1d array was expected. Please change the shape of y to (n_samples,), for example using ravel().\n",
            "  \n"
          ]
        },
        {
          "output_type": "execute_result",
          "data": {
            "text/plain": [
              "RandomForestRegressor(max_depth=3)"
            ]
          },
          "metadata": {},
          "execution_count": 17
        }
      ]
    },
    {
      "cell_type": "code",
      "metadata": {
        "id": "KPpIUdNtQK5-",
        "outputId": "ff5958ba-1f59-4ac6-f12f-639af219cf17",
        "colab": {
          "base_uri": "https://localhost:8080/"
        }
      },
      "source": [
        "# 推定された治療効果を各人ごとに求めます\n",
        "# tau_0 = reg_1.predict(df_0[[\"x\"]]) - df_0[\"Y\"]\n",
        "# tau_1 = df_1[\"Y\"] - reg_0.predict(df_1[[\"x\"]])\n",
        "\n",
        "# Issue 38ご指摘で判明：修正（2022/04/11）\n",
        "tau_0 = M1.predict(df_0[[\"x\"]]) - df_0[\"Y\"]\n",
        "tau_1 = df_1[\"Y\"] - M0.predict(df_1[[\"x\"]])\n",
        "\n",
        "\n",
        "# ATTとATUを求めるモデルを作成します\n",
        "M2 = RandomForestRegressor(max_depth=3)\n",
        "M2.fit(df_0[[\"x\"]], tau_0)\n",
        "\n",
        "M3 = RandomForestRegressor(max_depth=3)\n",
        "M3.fit(df_1[[\"x\"]], tau_1)\n"
      ],
      "execution_count": 18,
      "outputs": [
        {
          "output_type": "execute_result",
          "data": {
            "text/plain": [
              "RandomForestRegressor(max_depth=3)"
            ]
          },
          "metadata": {},
          "execution_count": 18
        }
      ]
    },
    {
      "cell_type": "code",
      "metadata": {
        "id": "Ou5_JAZQQ0QX"
      },
      "source": [
        "# 傾向スコアを求めます\n",
        "from sklearn.linear_model import LogisticRegression\n",
        "\n",
        "# 説明変数\n",
        "X = df[[\"x\"]]\n",
        "\n",
        "# 被説明変数（目的変数）\n",
        "Z = df[\"Z\"]\n",
        "\n",
        "# 回帰の実施\n",
        "g_x = LogisticRegression().fit(X, Z)\n",
        "g_x_val = g_x.predict_proba(X)\n",
        "\n",
        "# それぞれのモデルで全データの効果を予測し、傾向スコアで調整\n",
        "tau = g_x_val[:, 1]*M2.predict(df[[\"x\"]]) + g_x_val[:, 0]*M3.predict(df[[\"x\"]])\n"
      ],
      "execution_count": 19,
      "outputs": []
    },
    {
      "cell_type": "code",
      "metadata": {
        "id": "MVuQlQCrfvjB",
        "outputId": "7ebb7b38-8b32-447d-8aeb-bc6d633689fe",
        "colab": {
          "base_uri": "https://localhost:8080/",
          "height": 283
        }
      },
      "source": [
        "# 推定された治療効果を各人ごとに求めます\n",
        "plt.scatter(df[[\"x\"]], tau, label=\"estimated_treatment-effect\")\n",
        "\n",
        "# 正解を描画\n",
        "plt.plot(x_index, t_ans, color='black', ls='--', label='Baseline')\n"
      ],
      "execution_count": 20,
      "outputs": [
        {
          "output_type": "execute_result",
          "data": {
            "text/plain": [
              "[<matplotlib.lines.Line2D at 0x7f04db7f8650>]"
            ]
          },
          "metadata": {},
          "execution_count": 20
        },
        {
          "output_type": "display_data",
          "data": {
            "text/plain": [
              "<Figure size 432x288 with 1 Axes>"
            ],
            "image/png": "[encoded data removed]"
          },
          "metadata": {
            "needs_background": "light"
          }
        }
      ]
    },
    {
      "cell_type": "markdown",
      "metadata": {
        "id": "3oYzELNxl04e"
      },
      "source": [
        "以上"
      ]
    }
  ]
}