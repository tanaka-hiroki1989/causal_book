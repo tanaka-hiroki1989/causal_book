{
  "cells": [
    {
      "cell_type": "markdown",
      "metadata": {
        "colab_type": "text",
        "id": "d-IAJLC2k1NX"
      },
      "source": [
        "# 回帰分析による因果推論\n",
        "テレビCMの広告効果の推定を例に、回帰分析による因果推論を実装します。\n"
      ]
    },
    {
      "cell_type": "code",
      "execution_count": 1,
      "metadata": {
        "colab": {},
        "colab_type": "code",
        "id": "wqHjwstVeXYt"
      },
      "outputs": [],
      "source": [
        "import numpy as np\n",
        "from numpy.random import *\n",
        "import matplotlib.pyplot as plt\n",
        "import scipy.stats\n",
        "import pandas as pd\n",
        "from sklearn.linear_model import LinearRegression, LogisticRegression"
      ]
    },
    {
      "cell_type": "markdown",
      "metadata": {},
      "source": [
        "$x_1\\in[15,76]$ : 年齢\n",
        "\n",
        "$x_2\\in\\{0,1\\}$ : 性別\n",
        "\n",
        "$\n",
        "y=-x_1+30x_2+10z+80+10\\epsilon_y\n",
        "$"
      ]
    },
    {
      "cell_type": "markdown",
      "metadata": {},
      "source": [
        "$\n",
        "\\mathrm{Prob}(Z)=\\mathrm{sigmoid}(0.1(x_1+10(1-x_2)-40+5\\epsilon_z))\n",
        "$"
      ]
    },
    {
      "cell_type": "code",
      "execution_count": 2,
      "metadata": {
        "colab": {
          "base_uri": "https://localhost:8080/",
          "height": 210
        },
        "colab_type": "code",
        "id": "HHInQ1Sukrg0",
        "outputId": "40cbd6c0-df68-4eec-c8c7-8a518aa4d52c"
      },
      "outputs": [],
      "source": [
        "data = np.loadtxt(\"data/cm_purchase.csv\",delimiter=\",\")"
      ]
    },
    {
      "cell_type": "markdown",
      "metadata": {
        "colab_type": "text",
        "id": "kwKOk59aogBd"
      },
      "source": [
        "回帰分析を実施"
      ]
    },
    {
      "cell_type": "code",
      "execution_count": 3,
      "metadata": {
        "colab": {
          "base_uri": "https://localhost:8080/",
          "height": 34
        },
        "colab_type": "code",
        "id": "rBtHC3smoiMC",
        "outputId": "e5a4dee9-e80a-4c83-b32b-8461d494eb00"
      },
      "outputs": [
        {
          "name": "stdout",
          "output_type": "stream",
          "text": [
            "係数： [-1.00808243 32.35465652 10.97612368]\n"
          ]
        }
      ],
      "source": [
        "X=data[:,0:3]\n",
        "Y=data[:,3]\n",
        "reg = LinearRegression().fit(X, Y)\n",
        "print(\"係数：\", reg.coef_)"
      ]
    },
    {
      "cell_type": "markdown",
      "metadata": {},
      "source": [
        "- 逆確率重み付け法（IPTW）による因果推論"
      ]
    },
    {
      "cell_type": "code",
      "execution_count": 4,
      "metadata": {},
      "outputs": [
        {
          "name": "stdout",
          "output_type": "stream",
          "text": [
            "係数beta： [[ 0.08716475 -0.54525891]]\n",
            "係数alpha： [-2.99898819]\n"
          ]
        }
      ],
      "source": [
        "X = data[:,0:2]\n",
        "Z = data[:,2]\n",
        "reg = LogisticRegression().fit(X,Z)\n",
        "print(\"係数beta：\", reg.coef_)\n",
        "print(\"係数alpha：\", reg.intercept_)"
      ]
    },
    {
      "cell_type": "markdown",
      "metadata": {},
      "source": [
        "傾向スコア"
      ]
    },
    {
      "cell_type": "code",
      "execution_count": 5,
      "metadata": {},
      "outputs": [
        {
          "name": "stdout",
          "output_type": "stream",
          "text": [
            "[[0.48705836 0.51294164]\n",
            " [0.6002042  0.3997958 ]\n",
            " [0.77828382 0.22171618]\n",
            " [0.86854066 0.13145934]\n",
            " [0.08448165 0.91551835]]\n",
            "----\n",
            "[1. 0. 0. 0. 1.]\n"
          ]
        }
      ],
      "source": [
        "Z_pre = reg.predict_proba(X)\n",
        "print(Z_pre[0:5])\n",
        "print(\"----\")\n",
        "print(Z[0:5])"
      ]
    },
    {
      "cell_type": "markdown",
      "metadata": {},
      "source": [
        "平均処置効果(ATE)"
      ]
    },
    {
      "cell_type": "code",
      "execution_count": 6,
      "metadata": {},
      "outputs": [
        {
          "name": "stdout",
          "output_type": "stream",
          "text": [
            "推定したATE 15.393159778678676\n"
          ]
        }
      ],
      "source": [
        "ATE_i = Y/Z_pre[:, 1]*Z - Y/Z_pre[:, 0]*(1-Z)\n",
        "ATE = 1/len(Y)*ATE_i.sum()\n",
        "print(\"推定したATE\", ATE)"
      ]
    },
    {
      "cell_type": "markdown",
      "metadata": {},
      "source": [
        "- Doubly Robust法（DR法）による因果推論"
      ]
    },
    {
      "cell_type": "code",
      "execution_count": 7,
      "metadata": {},
      "outputs": [],
      "source": [
        "X = data[:,0:3]\n",
        "Y = data[:,3]\n",
        "reg2 = LinearRegression().fit(X, Y)\n",
        "\n",
        "# Z=0の場合\n",
        "X_0 = X.copy()\n",
        "X_0[2] = 0\n",
        "Y_0 = reg2.predict(X_0)\n",
        "\n",
        "# Z=1の場合\n",
        "X_1 = X.copy()\n",
        "X_1[2] = 1\n",
        "Y_1 = reg2.predict(X_1)"
      ]
    },
    {
      "cell_type": "code",
      "execution_count": 8,
      "metadata": {},
      "outputs": [
        {
          "name": "stdout",
          "output_type": "stream",
          "text": [
            "[[0.48705836 0.51294164]\n",
            " [0.6002042  0.3997958 ]\n",
            " [0.77828382 0.22171618]\n",
            " [0.86854066 0.13145934]\n",
            " [0.08448165 0.91551835]]\n"
          ]
        }
      ],
      "source": [
        "# 説明変数\n",
        "X = data[:,0:2]\n",
        "# 被説明変数（目的変数）\n",
        "Z = data[:,2]\n",
        "# 回帰の実施\n",
        "reg = LogisticRegression().fit(X, Z)\n",
        "\n",
        "# 傾向スコアを求める\n",
        "Z_pre = reg.predict_proba(X)\n",
        "print(Z_pre[0:5])  # 5人ほどの結果を見てみる"
      ]
    },
    {
      "cell_type": "code",
      "execution_count": 9,
      "metadata": {},
      "outputs": [
        {
          "name": "stdout",
          "output_type": "stream",
          "text": [
            "推定したATE 0.4890801942990295\n"
          ]
        }
      ],
      "source": [
        "ATE_1_i = Y/Z_pre[:, 1]*Z + (1-Z/Z_pre[:, 1])*Y_1\n",
        "ATE_0_i = Y/Z_pre[:, 0]*(1-Z) + (1-(1-Z)/Z_pre[:, 0])*Y_0\n",
        "ATE = 1/len(Y)*(ATE_1_i-ATE_0_i).sum()\n",
        "print(\"推定したATE\", ATE)"
      ]
    }
  ],
  "metadata": {
    "colab": {
      "collapsed_sections": [],
      "name": "4_1_reggresion_adjustment.ipynb",
      "provenance": []
    },
    "kernelspec": {
      "display_name": "Python 3.10.4 ('causal')",
      "language": "python",
      "name": "python3"
    },
    "language_info": {
      "codemirror_mode": {
        "name": "ipython",
        "version": 3
      },
      "file_extension": ".py",
      "mimetype": "text/x-python",
      "name": "python",
      "nbconvert_exporter": "python",
      "pygments_lexer": "ipython3",
      "version": "3.10.4"
    },
    "vscode": {
      "interpreter": {
        "hash": "e0ecfad75f99b8578830c76494b15e8b8f0ed30d484e3d7b0b2aac43eb800e14"
      }
    }
  },
  "nbformat": 4,
  "nbformat_minor": 0
}
