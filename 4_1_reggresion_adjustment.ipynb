{
  "cells": [
    {
      "cell_type": "markdown",
      "metadata": {
        "colab_type": "text",
        "id": "d-IAJLC2k1NX"
      },
      "source": [
        "# 回帰分析による因果推論\n",
        "テレビCMの広告効果の推定を例に、回帰分析による因果推論を実装します。\n"
      ]
    },
    {
      "cell_type": "code",
      "execution_count": 1,
      "metadata": {
        "colab": {},
        "colab_type": "code",
        "id": "wqHjwstVeXYt"
      },
      "outputs": [],
      "source": [
        "import random\n",
        "import numpy as np\n",
        "np.random.seed(1234)\n",
        "random.seed(1234)"
      ]
    },
    {
      "cell_type": "code",
      "execution_count": 2,
      "metadata": {
        "colab": {},
        "colab_type": "code",
        "id": "RIhcLRqlem3V"
      },
      "outputs": [],
      "source": [
        "from numpy.random import *\n",
        "import matplotlib.pyplot as plt\n",
        "import scipy.stats\n",
        "from scipy.special import expit\n",
        "import pandas as pd\n",
        "from sklearn.linear_model import LinearRegression, LogisticRegression"
      ]
    },
    {
      "cell_type": "code",
      "execution_count": 3,
      "metadata": {},
      "outputs": [],
      "source": [
        "def make_data(num_data=200):\n",
        "    x_1=randint(15,76,num_data) #age\n",
        "    x_2=randint(0,2,num_data) #sex, 0:female,1:male\n",
        "    \n",
        "    e_z = randn(num_data)\n",
        "    z_base = x_1 + (1-x_2)*10 - 40 + 5*e_z\n",
        "    z_prob = expit(0.1*z_base)\n",
        "    Z = np.array([])\n",
        "    for i in range(num_data):\n",
        "        Z_i = np.random.choice(2, size=1, p=[1-z_prob[i], z_prob[i]])[0]\n",
        "        Z = np.append(Z, Z_i)\n",
        "    e_y = randn(num_data)\n",
        "    Y = -x_1 + 30*x_2 + 10*Z + 80 + 10*e_y\n",
        "    df = pd.DataFrame({'年齢': x_1,\n",
        "                   '性別': x_2,\n",
        "                   'CMを見た': Z,\n",
        "                   '購入量': Y,\n",
        "                   })\n",
        "    return df"
      ]
    },
    {
      "cell_type": "code",
      "execution_count": 4,
      "metadata": {},
      "outputs": [
        {
          "data": {
            "text/html": [
              "<div>\n",
              "<style scoped>\n",
              "    .dataframe tbody tr th:only-of-type {\n",
              "        vertical-align: middle;\n",
              "    }\n",
              "\n",
              "    .dataframe tbody tr th {\n",
              "        vertical-align: top;\n",
              "    }\n",
              "\n",
              "    .dataframe thead th {\n",
              "        text-align: right;\n",
              "    }\n",
              "</style>\n",
              "<table border=\"1\" class=\"dataframe\">\n",
              "  <thead>\n",
              "    <tr style=\"text-align: right;\">\n",
              "      <th></th>\n",
              "      <th>年齢</th>\n",
              "      <th>性別</th>\n",
              "      <th>CMを見た</th>\n",
              "      <th>購入量</th>\n",
              "    </tr>\n",
              "  </thead>\n",
              "  <tbody>\n",
              "    <tr>\n",
              "      <th>0</th>\n",
              "      <td>62</td>\n",
              "      <td>0</td>\n",
              "      <td>1.0</td>\n",
              "      <td>24.464285</td>\n",
              "    </tr>\n",
              "    <tr>\n",
              "      <th>1</th>\n",
              "      <td>34</td>\n",
              "      <td>0</td>\n",
              "      <td>0.0</td>\n",
              "      <td>45.693411</td>\n",
              "    </tr>\n",
              "    <tr>\n",
              "      <th>2</th>\n",
              "      <td>53</td>\n",
              "      <td>1</td>\n",
              "      <td>1.0</td>\n",
              "      <td>64.998281</td>\n",
              "    </tr>\n",
              "    <tr>\n",
              "      <th>3</th>\n",
              "      <td>68</td>\n",
              "      <td>1</td>\n",
              "      <td>1.0</td>\n",
              "      <td>47.186898</td>\n",
              "    </tr>\n",
              "    <tr>\n",
              "      <th>4</th>\n",
              "      <td>27</td>\n",
              "      <td>1</td>\n",
              "      <td>0.0</td>\n",
              "      <td>100.114260</td>\n",
              "    </tr>\n",
              "  </tbody>\n",
              "</table>\n",
              "</div>"
            ],
            "text/plain": [
              "   年齢  性別  CMを見た         購入量\n",
              "0  62   0    1.0   24.464285\n",
              "1  34   0    0.0   45.693411\n",
              "2  53   1    1.0   64.998281\n",
              "3  68   1    1.0   47.186898\n",
              "4  27   1    0.0  100.114260"
            ]
          },
          "execution_count": 4,
          "metadata": {},
          "output_type": "execute_result"
        }
      ],
      "source": [
        "df = make_data(num_data=200)\n",
        "df.head()"
      ]
    },
    {
      "cell_type": "markdown",
      "metadata": {},
      "source": [
        "$\n",
        "\\mathrm{Prob}(Z)=\\mathrm{sigmoid}(0.1(x_1+10(1-x_2)-40+5\\epsilon_z))\n",
        "$"
      ]
    },
    {
      "cell_type": "markdown",
      "metadata": {},
      "source": [
        "$\n",
        "y=-x_1+30x_2+10z+80+10\\epsilon_y\n",
        "$"
      ]
    },
    {
      "cell_type": "markdown",
      "metadata": {
        "colab_type": "text",
        "id": "BHcdUlW9koTa"
      },
      "source": [
        "データをまとめた表を作成し、平均値を比べる"
      ]
    },
    {
      "cell_type": "code",
      "execution_count": 5,
      "metadata": {
        "colab": {
          "base_uri": "https://localhost:8080/",
          "height": 210
        },
        "colab_type": "code",
        "id": "HHInQ1Sukrg0",
        "outputId": "40cbd6c0-df68-4eec-c8c7-8a518aa4d52c"
      },
      "outputs": [
        {
          "name": "stdout",
          "output_type": "stream",
          "text": [
            "年齢       55.836066\n",
            "性別        0.483607\n",
            "CMを見た     1.000000\n",
            "購入量      49.711478\n",
            "dtype: float64\n",
            "--------\n",
            "年齢       32.141026\n",
            "性別        0.692308\n",
            "CMを見た     0.000000\n",
            "購入量      68.827143\n",
            "dtype: float64\n"
          ]
        }
      ],
      "source": [
        "print(df[df[\"CMを見た\"] == 1.0].mean())\n",
        "print(\"--------\")\n",
        "print(df[df[\"CMを見た\"] == 0.0].mean())\n"
      ]
    },
    {
      "cell_type": "markdown",
      "metadata": {
        "colab_type": "text",
        "id": "kwKOk59aogBd"
      },
      "source": [
        "回帰分析を実施"
      ]
    },
    {
      "cell_type": "code",
      "execution_count": 6,
      "metadata": {
        "colab": {
          "base_uri": "https://localhost:8080/",
          "height": 34
        },
        "colab_type": "code",
        "id": "rBtHC3smoiMC",
        "outputId": "e5a4dee9-e80a-4c83-b32b-8461d494eb00"
      },
      "outputs": [
        {
          "name": "stdout",
          "output_type": "stream",
          "text": [
            "係数： [-0.95817951 32.70149412 10.41327647]\n"
          ]
        }
      ],
      "source": [
        "X = df[[\"年齢\", \"性別\", \"CMを見た\"]]\n",
        "Y = df[\"購入量\"]\n",
        "reg = LinearRegression().fit(X, Y)\n",
        "print(\"係数：\", reg.coef_)\n"
      ]
    },
    {
      "cell_type": "markdown",
      "metadata": {},
      "source": [
        "- 逆確率重み付け法（IPTW）による因果推論"
      ]
    },
    {
      "cell_type": "code",
      "execution_count": 7,
      "metadata": {},
      "outputs": [
        {
          "name": "stdout",
          "output_type": "stream",
          "text": [
            "係数beta： [[ 0.10562765 -1.38263933]]\n",
            "係数alpha： [-3.37146523]\n"
          ]
        }
      ],
      "source": [
        "X = df[[\"年齢\", \"性別\"]]\n",
        "Z = df[\"CMを見た\"]\n",
        "reg = LogisticRegression().fit(X,Z)\n",
        "print(\"係数beta：\", reg.coef_)\n",
        "print(\"係数alpha：\", reg.intercept_)"
      ]
    },
    {
      "cell_type": "markdown",
      "metadata": {},
      "source": [
        "傾向スコア"
      ]
    },
    {
      "cell_type": "code",
      "execution_count": 8,
      "metadata": {},
      "outputs": [
        {
          "name": "stdout",
          "output_type": "stream",
          "text": [
            "[[0.04002323 0.95997677]\n",
            " [0.44525168 0.55474832]\n",
            " [0.30065918 0.69934082]\n",
            " [0.08101946 0.91898054]\n",
            " [0.87013558 0.12986442]]\n",
            "----\n",
            "0    1.0\n",
            "1    0.0\n",
            "2    1.0\n",
            "3    1.0\n",
            "4    0.0\n",
            "Name: CMを見た, dtype: float64\n"
          ]
        }
      ],
      "source": [
        "Z_pre = reg.predict_proba(X)\n",
        "print(Z_pre[0:5])  # 5人ほどの結果を見てみる\n",
        "print(\"----\")\n",
        "print(Z[0:5])  # 5人ほどの正解"
      ]
    },
    {
      "cell_type": "markdown",
      "metadata": {},
      "source": [
        "平均処置効果(ATE)"
      ]
    },
    {
      "cell_type": "code",
      "execution_count": 9,
      "metadata": {},
      "outputs": [
        {
          "name": "stdout",
          "output_type": "stream",
          "text": [
            "推定したATE 8.847476810855458\n"
          ]
        }
      ],
      "source": [
        "ATE_i = Y/Z_pre[:, 1]*Z - Y/Z_pre[:, 0]*(1-Z)\n",
        "ATE = 1/len(Y)*ATE_i.sum()\n",
        "print(\"推定したATE\", ATE)"
      ]
    },
    {
      "cell_type": "markdown",
      "metadata": {},
      "source": [
        "- Doubly Robust法（DR法）による因果推論"
      ]
    },
    {
      "cell_type": "code",
      "execution_count": 10,
      "metadata": {},
      "outputs": [],
      "source": [
        "X = df[[\"年齢\", \"性別\", \"CMを見た\"]]\n",
        "\n",
        "# 被説明変数（目的変数）\n",
        "Y = df[\"購入量\"]\n",
        "\n",
        "# 回帰の実施\n",
        "reg2 = LinearRegression().fit(X, Y)\n",
        "\n",
        "# Z=0の場合\n",
        "X_0 = X.copy()\n",
        "X_0[\"CMを見た\"] = 0\n",
        "Y_0 = reg2.predict(X_0)\n",
        "\n",
        "# Z=1の場合\n",
        "X_1 = X.copy()\n",
        "X_1[\"CMを見た\"] = 1\n",
        "Y_1 = reg2.predict(X_1)"
      ]
    },
    {
      "cell_type": "code",
      "execution_count": 11,
      "metadata": {},
      "outputs": [
        {
          "name": "stdout",
          "output_type": "stream",
          "text": [
            "[[0.04002323 0.95997677]\n",
            " [0.44525168 0.55474832]\n",
            " [0.30065918 0.69934082]\n",
            " [0.08101946 0.91898054]\n",
            " [0.87013558 0.12986442]]\n"
          ]
        }
      ],
      "source": [
        "# 説明変数\n",
        "X = df[[\"年齢\", \"性別\"]]\n",
        "\n",
        "# 被説明変数（目的変数）\n",
        "Z = df[\"CMを見た\"]\n",
        "\n",
        "# 回帰の実施\n",
        "reg = LogisticRegression().fit(X, Z)\n",
        "\n",
        "# 傾向スコアを求める\n",
        "Z_pre = reg.predict_proba(X)\n",
        "print(Z_pre[0:5])  # 5人ほどの結果を見てみる"
      ]
    },
    {
      "cell_type": "code",
      "execution_count": 12,
      "metadata": {},
      "outputs": [
        {
          "name": "stdout",
          "output_type": "stream",
          "text": [
            "推定したATE 9.752775054248461\n"
          ]
        }
      ],
      "source": [
        "ATE_1_i = Y/Z_pre[:, 1]*Z + (1-Z/Z_pre[:, 1])*Y_1\n",
        "ATE_0_i = Y/Z_pre[:, 0]*(1-Z) + (1-(1-Z)/Z_pre[:, 0])*Y_0\n",
        "ATE = 1/len(Y)*(ATE_1_i-ATE_0_i).sum()\n",
        "print(\"推定したATE\", ATE)"
      ]
    }
  ],
  "metadata": {
    "colab": {
      "collapsed_sections": [],
      "name": "4_1_reggresion_adjustment.ipynb",
      "provenance": []
    },
    "kernelspec": {
      "display_name": "Python 3.10.4 ('causal')",
      "language": "python",
      "name": "python3"
    },
    "language_info": {
      "codemirror_mode": {
        "name": "ipython",
        "version": 3
      },
      "file_extension": ".py",
      "mimetype": "text/x-python",
      "name": "python",
      "nbconvert_exporter": "python",
      "pygments_lexer": "ipython3",
      "version": "3.10.4"
    },
    "vscode": {
      "interpreter": {
        "hash": "e0ecfad75f99b8578830c76494b15e8b8f0ed30d484e3d7b0b2aac43eb800e14"
      }
    }
  },
  "nbformat": 4,
  "nbformat_minor": 0
}
