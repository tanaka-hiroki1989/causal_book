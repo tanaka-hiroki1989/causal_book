{
  "nbformat": 4,
  "nbformat_minor": 0,
  "metadata": {
    "kernelspec": {
      "name": "python3",
      "display_name": "Python 3"
    },
    "colab": {
      "name": "7_5_bayesian_network_pc_algorithm_20220421.ipynb",
      "provenance": [],
      "collapsed_sections": []
    }
  },
  "cells": [
    {
      "cell_type": "markdown",
      "metadata": {
        "id": "aoxI3DOK9vm2"
      },
      "source": [
        "# 7.5 PCアルゴリズムによるベイジアンネットワーク探索の実装\n",
        "\n",
        "本ファイルは、7.5節の実装です。\n",
        "\n",
        "5.3節で使用した人事研修の効果を拡張した模擬データを作成し、因果探索を実施します。"
      ]
    },
    {
      "cell_type": "markdown",
      "metadata": {
        "id": "2XdIDbdlejUk"
      },
      "source": [
        "## プログラム実行前の設定など"
      ]
    },
    {
      "cell_type": "code",
      "metadata": {
        "id": "XZFKJwcu-_Oj"
      },
      "source": [
        "# 乱数のシードを設定\n",
        "import random\n",
        "import numpy as np\n",
        "\n",
        "np.random.seed(1234)\n",
        "random.seed(1234)\n"
      ],
      "execution_count": 1,
      "outputs": []
    },
    {
      "cell_type": "code",
      "metadata": {
        "id": "hx1idArc_F15"
      },
      "source": [
        "# 使用するパッケージ（ライブラリと関数）を定義\n",
        "# 標準正規分布の生成用\n",
        "from numpy.random import *\n",
        "\n",
        "# グラフの描画用\n",
        "import matplotlib.pyplot as plt\n",
        "\n",
        "# SciPy 平均0、分散1に正規化（標準化）関数\n",
        "import scipy.stats\n",
        "\n",
        "# シグモイド関数をimport\n",
        "from scipy.special import expit\n",
        "\n",
        "# その他\n",
        "import pandas as pd\n"
      ],
      "execution_count": 2,
      "outputs": []
    },
    {
      "cell_type": "markdown",
      "metadata": {
        "id": "AWqP6yeQlI_t"
      },
      "source": [
        "## データの作成"
      ]
    },
    {
      "cell_type": "code",
      "metadata": {
        "id": "DpnGB2KZ_L8x"
      },
      "source": [
        "# データ数\n",
        "num_data = 2000\n",
        "\n",
        "# 部下育成への熱心さ\n",
        "x = np.random.uniform(low=-1, high=1, size=num_data)  # -1から1の一様乱数\n",
        "\n",
        "# 上司が「上司向け：部下とのキャリア面談のポイント研修」に参加したかどうか\n",
        "e_z = randn(num_data)  # ノイズの生成\n",
        "z_prob = expit(-5.0*x+5*e_z)\n",
        "Z = np.array([])\n",
        "\n",
        "# 上司が「上司向け：部下とのキャリア面談のポイント研修」に参加したかどうか\n",
        "for i in range(num_data):\n",
        "    Z_i = np.random.choice(2, size=1, p=[1-z_prob[i], z_prob[i]])[0]\n",
        "    Z = np.append(Z, Z_i)\n",
        "\n",
        "# 介入効果の非線形性：部下育成の熱心さxの値に応じて段階的に変化\n",
        "t = np.zeros(num_data)\n",
        "for i in range(num_data):\n",
        "    if x[i] < 0:\n",
        "        t[i] = 0.5\n",
        "    elif x[i] >= 0 and x[i] < 0.5:\n",
        "        t[i] = 0.7\n",
        "    elif x[i] >= 0.5:\n",
        "        t[i] = 1.0\n",
        "\n",
        "e_y = randn(num_data)\n",
        "Y = 2.0 + t*Z + 0.3*x + 0.1*e_y \n"
      ],
      "execution_count": 3,
      "outputs": []
    },
    {
      "cell_type": "code",
      "metadata": {
        "id": "RwfHdcKFzL8o"
      },
      "source": [
        "# 本章からの追加データを生成\n",
        "\n",
        "# Y2：部下当人のチームメンバへの満足度 1から5の5段階\n",
        "Y2 = np.random.choice([1.0, 2.0, 3.0, 4.0, 5.0],\n",
        "                      num_data, p=[0.1, 0.2, 0.3, 0.2, 0.2])\n",
        "\n",
        "# Y3：部下当人の仕事への満足度\n",
        "e_y3 = randn(num_data)\n",
        "Y3 = 4*Y + Y2 + e_y3\n",
        "\n",
        "# ※初版、第2版は20/7/24に変更\n",
        "# Y3 = 3*Y + Y2 + e_y3\n",
        "\n",
        "\n",
        "# Y4：部下当人の仕事のパフォーマンス\n",
        "e_y4 = randn(num_data)\n",
        "Y4 = 3*Y3 + 5 + 2*e_y4 \n"
      ],
      "execution_count": 4,
      "outputs": []
    },
    {
      "cell_type": "markdown",
      "metadata": {
        "id": "BHcdUlW9koTa"
      },
      "source": [
        "## データをまとめた表を作成し、可視化する"
      ]
    },
    {
      "cell_type": "code",
      "metadata": {
        "id": "1EMwdGIIIPrK",
        "colab": {
          "base_uri": "https://localhost:8080/",
          "height": 206
        },
        "outputId": "49dbd4db-ef84-4b53-8aad-b92ec8fb601e"
      },
      "source": [
        "df = pd.DataFrame({'x': x,\n",
        "                   'Z': Z,\n",
        "                   't': t,\n",
        "                   'Y': Y,\n",
        "                   'Y2': Y2,\n",
        "                   'Y3': Y3,\n",
        "                   'Y4': Y4,\n",
        "                   })\n",
        "\n",
        "df.head()  # 先頭を表示\n"
      ],
      "execution_count": 5,
      "outputs": [
        {
          "output_type": "execute_result",
          "data": {
            "text/plain": [
              "          x    Z    t         Y   Y2         Y3         Y4\n",
              "0 -0.616961  1.0  0.5  2.286924  2.0  11.019469  37.187280\n",
              "1  0.244218  1.0  0.7  2.864636  3.0  13.608595  45.742923\n",
              "2 -0.124545  0.0  0.5  2.198515  3.0  12.767678  45.076731\n",
              "3  0.570717  1.0  1.0  3.230572  3.0  15.543099  53.400946\n",
              "4  0.559952  0.0  1.0  2.459267  5.0  14.878006  48.211738"
            ],
            "text/html": [
              "\n",
              "  <div id=\"df-ca14eabb-f74d-4841-88c1-968a28caf612\">\n",
              "    <div class=\"colab-df-container\">\n",
              "      <div>\n",
              "<style scoped>\n",
              "    .dataframe tbody tr th:only-of-type {\n",
              "        vertical-align: middle;\n",
              "    }\n",
              "\n",
              "    .dataframe tbody tr th {\n",
              "        vertical-align: top;\n",
              "    }\n",
              "\n",
              "    .dataframe thead th {\n",
              "        text-align: right;\n",
              "    }\n",
              "</style>\n",
              "<table border=\"1\" class=\"dataframe\">\n",
              "  <thead>\n",
              "    <tr style=\"text-align: right;\">\n",
              "      <th></th>\n",
              "      <th>x</th>\n",
              "      <th>Z</th>\n",
              "      <th>t</th>\n",
              "      <th>Y</th>\n",
              "      <th>Y2</th>\n",
              "      <th>Y3</th>\n",
              "      <th>Y4</th>\n",
              "    </tr>\n",
              "  </thead>\n",
              "  <tbody>\n",
              "    <tr>\n",
              "      <th>0</th>\n",
              "      <td>-0.616961</td>\n",
              "      <td>1.0</td>\n",
              "      <td>0.5</td>\n",
              "      <td>2.286924</td>\n",
              "      <td>2.0</td>\n",
              "      <td>11.019469</td>\n",
              "      <td>37.187280</td>\n",
              "    </tr>\n",
              "    <tr>\n",
              "      <th>1</th>\n",
              "      <td>0.244218</td>\n",
              "      <td>1.0</td>\n",
              "      <td>0.7</td>\n",
              "      <td>2.864636</td>\n",
              "      <td>3.0</td>\n",
              "      <td>13.608595</td>\n",
              "      <td>45.742923</td>\n",
              "    </tr>\n",
              "    <tr>\n",
              "      <th>2</th>\n",
              "      <td>-0.124545</td>\n",
              "      <td>0.0</td>\n",
              "      <td>0.5</td>\n",
              "      <td>2.198515</td>\n",
              "      <td>3.0</td>\n",
              "      <td>12.767678</td>\n",
              "      <td>45.076731</td>\n",
              "    </tr>\n",
              "    <tr>\n",
              "      <th>3</th>\n",
              "      <td>0.570717</td>\n",
              "      <td>1.0</td>\n",
              "      <td>1.0</td>\n",
              "      <td>3.230572</td>\n",
              "      <td>3.0</td>\n",
              "      <td>15.543099</td>\n",
              "      <td>53.400946</td>\n",
              "    </tr>\n",
              "    <tr>\n",
              "      <th>4</th>\n",
              "      <td>0.559952</td>\n",
              "      <td>0.0</td>\n",
              "      <td>1.0</td>\n",
              "      <td>2.459267</td>\n",
              "      <td>5.0</td>\n",
              "      <td>14.878006</td>\n",
              "      <td>48.211738</td>\n",
              "    </tr>\n",
              "  </tbody>\n",
              "</table>\n",
              "</div>\n",
              "      <button class=\"colab-df-convert\" onclick=\"convertToInteractive('df-ca14eabb-f74d-4841-88c1-968a28caf612')\"\n",
              "              title=\"Convert this dataframe to an interactive table.\"\n",
              "              style=\"display:none;\">\n",
              "        \n",
              "  <svg xmlns=\"http://www.w3.org/2000/svg\" height=\"24px\"viewBox=\"0 0 24 24\"\n",
              "       width=\"24px\">\n",
              "    <path d=\"M0 0h24v24H0V0z\" fill=\"none\"/>\n",
              "    <path d=\"M18.56 5.44l.94 2.06.94-2.06 2.06-.94-2.06-.94-.94-2.06-.94 2.06-2.06.94zm-11 1L8.5 8.5l.94-2.06 2.06-.94-2.06-.94L8.5 2.5l-.94 2.06-2.06.94zm10 10l.94 2.06.94-2.06 2.06-.94-2.06-.94-.94-2.06-.94 2.06-2.06.94z\"/><path d=\"M17.41 7.96l-1.37-1.37c-.4-.4-.92-.59-1.43-.59-.52 0-1.04.2-1.43.59L10.3 9.45l-7.72 7.72c-.78.78-.78 2.05 0 2.83L4 21.41c.39.39.9.59 1.41.59.51 0 1.02-.2 1.41-.59l7.78-7.78 2.81-2.81c.8-.78.8-2.07 0-2.86zM5.41 20L4 18.59l7.72-7.72 1.47 1.35L5.41 20z\"/>\n",
              "  </svg>\n",
              "      </button>\n",
              "      \n",
              "  <style>\n",
              "    .colab-df-container {\n",
              "      display:flex;\n",
              "      flex-wrap:wrap;\n",
              "      gap: 12px;\n",
              "    }\n",
              "\n",
              "    .colab-df-convert {\n",
              "      background-color: #E8F0FE;\n",
              "      border: none;\n",
              "      border-radius: 50%;\n",
              "      cursor: pointer;\n",
              "      display: none;\n",
              "      fill: #1967D2;\n",
              "      height: 32px;\n",
              "      padding: 0 0 0 0;\n",
              "      width: 32px;\n",
              "    }\n",
              "\n",
              "    .colab-df-convert:hover {\n",
              "      background-color: #E2EBFA;\n",
              "      box-shadow: 0px 1px 2px rgba(60, 64, 67, 0.3), 0px 1px 3px 1px rgba(60, 64, 67, 0.15);\n",
              "      fill: #174EA6;\n",
              "    }\n",
              "\n",
              "    [theme=dark] .colab-df-convert {\n",
              "      background-color: #3B4455;\n",
              "      fill: #D2E3FC;\n",
              "    }\n",
              "\n",
              "    [theme=dark] .colab-df-convert:hover {\n",
              "      background-color: #434B5C;\n",
              "      box-shadow: 0px 1px 3px 1px rgba(0, 0, 0, 0.15);\n",
              "      filter: drop-shadow(0px 1px 2px rgba(0, 0, 0, 0.3));\n",
              "      fill: #FFFFFF;\n",
              "    }\n",
              "  </style>\n",
              "\n",
              "      <script>\n",
              "        const buttonEl =\n",
              "          document.querySelector('#df-ca14eabb-f74d-4841-88c1-968a28caf612 button.colab-df-convert');\n",
              "        buttonEl.style.display =\n",
              "          google.colab.kernel.accessAllowed ? 'block' : 'none';\n",
              "\n",
              "        async function convertToInteractive(key) {\n",
              "          const element = document.querySelector('#df-ca14eabb-f74d-4841-88c1-968a28caf612');\n",
              "          const dataTable =\n",
              "            await google.colab.kernel.invokeFunction('convertToInteractive',\n",
              "                                                     [key], {});\n",
              "          if (!dataTable) return;\n",
              "\n",
              "          const docLinkHtml = 'Like what you see? Visit the ' +\n",
              "            '<a target=\"_blank\" href=https://colab.research.google.com/notebooks/data_table.ipynb>data table notebook</a>'\n",
              "            + ' to learn more about interactive tables.';\n",
              "          element.innerHTML = '';\n",
              "          dataTable['output_type'] = 'display_data';\n",
              "          await google.colab.output.renderOutput(dataTable, element);\n",
              "          const docLink = document.createElement('div');\n",
              "          docLink.innerHTML = docLinkHtml;\n",
              "          element.appendChild(docLink);\n",
              "        }\n",
              "      </script>\n",
              "    </div>\n",
              "  </div>\n",
              "  "
            ]
          },
          "metadata": {},
          "execution_count": 5
        }
      ]
    },
    {
      "cell_type": "code",
      "metadata": {
        "id": "L6Tb2Hjk9vno",
        "colab": {
          "base_uri": "https://localhost:8080/",
          "height": 283
        },
        "outputId": "5e833c49-2b71-4e42-e7b5-68015e0cdd54"
      },
      "source": [
        "# グラフで確認\n",
        "plt.scatter(x, Y)\n"
      ],
      "execution_count": 6,
      "outputs": [
        {
          "output_type": "execute_result",
          "data": {
            "text/plain": [
              "<matplotlib.collections.PathCollection at 0x7f60a5d78a50>"
            ]
          },
          "metadata": {},
          "execution_count": 6
        },
        {
          "output_type": "display_data",
          "data": {
            "text/plain": [
              "<Figure size 432x288 with 1 Axes>"
            ],
            "image/png": "[encoded data removed]"
          },
          "metadata": {
            "needs_background": "light"
          }
        }
      ]
    },
    {
      "cell_type": "code",
      "metadata": {
        "id": "zpUlt74J0jq-",
        "colab": {
          "base_uri": "https://localhost:8080/",
          "height": 283
        },
        "outputId": "547e88ab-98ea-45c2-8c27-2a1abe9065a0"
      },
      "source": [
        "# グラフで確認\n",
        "plt.scatter(x, Y2)\n"
      ],
      "execution_count": 7,
      "outputs": [
        {
          "output_type": "execute_result",
          "data": {
            "text/plain": [
              "<matplotlib.collections.PathCollection at 0x7f60a5cdab90>"
            ]
          },
          "metadata": {},
          "execution_count": 7
        },
        {
          "output_type": "display_data",
          "data": {
            "text/plain": [
              "<Figure size 432x288 with 1 Axes>"
            ],
            "image/png": "[encoded data removed]"
          },
          "metadata": {
            "needs_background": "light"
          }
        }
      ]
    },
    {
      "cell_type": "code",
      "metadata": {
        "id": "UlLscNMF0ndN",
        "colab": {
          "base_uri": "https://localhost:8080/",
          "height": 283
        },
        "outputId": "b257a000-144a-458d-c15d-74e114a0cf31"
      },
      "source": [
        "# グラフで確認\n",
        "plt.scatter(x, Y3)\n"
      ],
      "execution_count": 8,
      "outputs": [
        {
          "output_type": "execute_result",
          "data": {
            "text/plain": [
              "<matplotlib.collections.PathCollection at 0x7f60a57dc650>"
            ]
          },
          "metadata": {},
          "execution_count": 8
        },
        {
          "output_type": "display_data",
          "data": {
            "text/plain": [
              "<Figure size 432x288 with 1 Axes>"
            ],
            "image/png": "[encoded data removed]"
          },
          "metadata": {
            "needs_background": "light"
          }
        }
      ]
    },
    {
      "cell_type": "code",
      "metadata": {
        "id": "y04PV60K0p25",
        "colab": {
          "base_uri": "https://localhost:8080/",
          "height": 283
        },
        "outputId": "113e4ea1-36e0-4f22-f0b3-fd61d7b250d4"
      },
      "source": [
        "# グラフで確認\n",
        "plt.scatter(x, Y4)\n"
      ],
      "execution_count": 9,
      "outputs": [
        {
          "output_type": "execute_result",
          "data": {
            "text/plain": [
              "<matplotlib.collections.PathCollection at 0x7f60a57dc590>"
            ]
          },
          "metadata": {},
          "execution_count": 9
        },
        {
          "output_type": "display_data",
          "data": {
            "text/plain": [
              "<Figure size 432x288 with 1 Axes>"
            ],
            "image/png": "[encoded data removed]"
          },
          "metadata": {
            "needs_background": "light"
          }
        }
      ]
    },
    {
      "cell_type": "markdown",
      "metadata": {
        "id": "AeC7Uv29KsXC"
      },
      "source": [
        "## データをビンで区切る"
      ]
    },
    {
      "cell_type": "code",
      "metadata": {
        "id": "xp2P-IDT9vql",
        "colab": {
          "base_uri": "https://localhost:8080/"
        },
        "outputId": "5c725ab1-7121-4f6c-d517-e5f0fb07206c"
      },
      "source": [
        "# ビン区切りの例\n",
        "# cutを使用すると閾値で区切れる\n",
        "# qcutを使用すると同じデータ数になるように区切る\n",
        "s_qcut, bins = pd.cut(df[\"Y\"], 5, labels=[1, 2, 3, 4, 5], retbins=True)\n",
        "\n",
        "print(s_qcut)\n",
        "print(\"=======\")\n",
        "print(bins)\n"
      ],
      "execution_count": 10,
      "outputs": [
        {
          "output_type": "stream",
          "name": "stdout",
          "text": [
            "0       2\n",
            "1       4\n",
            "2       2\n",
            "3       5\n",
            "4       3\n",
            "       ..\n",
            "1995    2\n",
            "1996    2\n",
            "1997    2\n",
            "1998    2\n",
            "1999    2\n",
            "Name: Y, Length: 2000, dtype: category\n",
            "Categories (5, int64): [1 < 2 < 3 < 4 < 5]\n",
            "=======\n",
            "[1.532537   1.92223596 2.30999611 2.69775627 3.08551643 3.47327659]\n"
          ]
        }
      ]
    },
    {
      "cell_type": "code",
      "metadata": {
        "id": "xozAxa4I2kWo",
        "colab": {
          "base_uri": "https://localhost:8080/",
          "height": 206
        },
        "outputId": "f707ae86-0147-47a9-d896-0029421c3cb3"
      },
      "source": [
        "# データを区切る\n",
        "df_bin = df.copy()  # コピーしてビン区切りデータを入れる変数を作成\n",
        "del df_bin[\"t\"]  # 変数tは観測できないので削除\n",
        "\n",
        "# x：部下育成への熱心さ\n",
        "df_bin[\"x\"], x_bins = pd.cut(df[\"x\"], 5, labels=[1, 2, 3, 4, 5], retbins=True)\n",
        "\n",
        "# Z：上司が「上司向け：部下とのキャリア面談のポイント研修」に参加したかどうか\n",
        "# ※qcutではなく、cutで値に応じて分割\n",
        "df_bin[\"Z\"], z_bins = pd.cut(df[\"Z\"], 2, labels=[0, 1], retbins=True)\n",
        "\n",
        "# Y：部下の面談の満足度\n",
        "df_bin[\"Y\"], y_bins = pd.cut(df[\"Y\"], 5, labels=[1, 2, 3, 4, 5], retbins=True)\n",
        "\n",
        "# Y2：部下当人のチームメンバへの満足度 1から5の5段階\n",
        "# # ※qcutではなく、cutで値に応じて分割\n",
        "df_bin[\"Y2\"], y2_bins = pd.cut(\n",
        "    df[\"Y2\"], 5, labels=[1, 2, 3, 4, 5], retbins=True)\n",
        "\n",
        "# Y3：部下当人の仕事への満足度\n",
        "df_bin[\"Y3\"], y3_bins = pd.cut(\n",
        "    df[\"Y3\"], 5, labels=[1, 2, 3, 4, 5], retbins=True)\n",
        "\n",
        "# Y4：部下当人の仕事のパフォーマンス\n",
        "df_bin[\"Y4\"], y4_bins = pd.cut(\n",
        "    df[\"Y4\"], 5, labels=[1, 2, 3, 4, 5], retbins=True)\n",
        "\n",
        "# 確認\n",
        "df_bin.head()\n"
      ],
      "execution_count": 11,
      "outputs": [
        {
          "output_type": "execute_result",
          "data": {
            "text/plain": [
              "   x  Z  Y Y2 Y3 Y4\n",
              "0  1  1  2  2  2  2\n",
              "1  4  1  4  3  3  3\n",
              "2  3  0  2  3  3  3\n",
              "3  4  1  5  3  4  4\n",
              "4  4  0  3  5  4  3"
            ],
            "text/html": [
              "\n",
              "  <div id=\"df-32c8a472-fc17-4e5c-99f5-8ff83c543ca3\">\n",
              "    <div class=\"colab-df-container\">\n",
              "      <div>\n",
              "<style scoped>\n",
              "    .dataframe tbody tr th:only-of-type {\n",
              "        vertical-align: middle;\n",
              "    }\n",
              "\n",
              "    .dataframe tbody tr th {\n",
              "        vertical-align: top;\n",
              "    }\n",
              "\n",
              "    .dataframe thead th {\n",
              "        text-align: right;\n",
              "    }\n",
              "</style>\n",
              "<table border=\"1\" class=\"dataframe\">\n",
              "  <thead>\n",
              "    <tr style=\"text-align: right;\">\n",
              "      <th></th>\n",
              "      <th>x</th>\n",
              "      <th>Z</th>\n",
              "      <th>Y</th>\n",
              "      <th>Y2</th>\n",
              "      <th>Y3</th>\n",
              "      <th>Y4</th>\n",
              "    </tr>\n",
              "  </thead>\n",
              "  <tbody>\n",
              "    <tr>\n",
              "      <th>0</th>\n",
              "      <td>1</td>\n",
              "      <td>1</td>\n",
              "      <td>2</td>\n",
              "      <td>2</td>\n",
              "      <td>2</td>\n",
              "      <td>2</td>\n",
              "    </tr>\n",
              "    <tr>\n",
              "      <th>1</th>\n",
              "      <td>4</td>\n",
              "      <td>1</td>\n",
              "      <td>4</td>\n",
              "      <td>3</td>\n",
              "      <td>3</td>\n",
              "      <td>3</td>\n",
              "    </tr>\n",
              "    <tr>\n",
              "      <th>2</th>\n",
              "      <td>3</td>\n",
              "      <td>0</td>\n",
              "      <td>2</td>\n",
              "      <td>3</td>\n",
              "      <td>3</td>\n",
              "      <td>3</td>\n",
              "    </tr>\n",
              "    <tr>\n",
              "      <th>3</th>\n",
              "      <td>4</td>\n",
              "      <td>1</td>\n",
              "      <td>5</td>\n",
              "      <td>3</td>\n",
              "      <td>4</td>\n",
              "      <td>4</td>\n",
              "    </tr>\n",
              "    <tr>\n",
              "      <th>4</th>\n",
              "      <td>4</td>\n",
              "      <td>0</td>\n",
              "      <td>3</td>\n",
              "      <td>5</td>\n",
              "      <td>4</td>\n",
              "      <td>3</td>\n",
              "    </tr>\n",
              "  </tbody>\n",
              "</table>\n",
              "</div>\n",
              "      <button class=\"colab-df-convert\" onclick=\"convertToInteractive('df-32c8a472-fc17-4e5c-99f5-8ff83c543ca3')\"\n",
              "              title=\"Convert this dataframe to an interactive table.\"\n",
              "              style=\"display:none;\">\n",
              "        \n",
              "  <svg xmlns=\"http://www.w3.org/2000/svg\" height=\"24px\"viewBox=\"0 0 24 24\"\n",
              "       width=\"24px\">\n",
              "    <path d=\"M0 0h24v24H0V0z\" fill=\"none\"/>\n",
              "    <path d=\"M18.56 5.44l.94 2.06.94-2.06 2.06-.94-2.06-.94-.94-2.06-.94 2.06-2.06.94zm-11 1L8.5 8.5l.94-2.06 2.06-.94-2.06-.94L8.5 2.5l-.94 2.06-2.06.94zm10 10l.94 2.06.94-2.06 2.06-.94-2.06-.94-.94-2.06-.94 2.06-2.06.94z\"/><path d=\"M17.41 7.96l-1.37-1.37c-.4-.4-.92-.59-1.43-.59-.52 0-1.04.2-1.43.59L10.3 9.45l-7.72 7.72c-.78.78-.78 2.05 0 2.83L4 21.41c.39.39.9.59 1.41.59.51 0 1.02-.2 1.41-.59l7.78-7.78 2.81-2.81c.8-.78.8-2.07 0-2.86zM5.41 20L4 18.59l7.72-7.72 1.47 1.35L5.41 20z\"/>\n",
              "  </svg>\n",
              "      </button>\n",
              "      \n",
              "  <style>\n",
              "    .colab-df-container {\n",
              "      display:flex;\n",
              "      flex-wrap:wrap;\n",
              "      gap: 12px;\n",
              "    }\n",
              "\n",
              "    .colab-df-convert {\n",
              "      background-color: #E8F0FE;\n",
              "      border: none;\n",
              "      border-radius: 50%;\n",
              "      cursor: pointer;\n",
              "      display: none;\n",
              "      fill: #1967D2;\n",
              "      height: 32px;\n",
              "      padding: 0 0 0 0;\n",
              "      width: 32px;\n",
              "    }\n",
              "\n",
              "    .colab-df-convert:hover {\n",
              "      background-color: #E2EBFA;\n",
              "      box-shadow: 0px 1px 2px rgba(60, 64, 67, 0.3), 0px 1px 3px 1px rgba(60, 64, 67, 0.15);\n",
              "      fill: #174EA6;\n",
              "    }\n",
              "\n",
              "    [theme=dark] .colab-df-convert {\n",
              "      background-color: #3B4455;\n",
              "      fill: #D2E3FC;\n",
              "    }\n",
              "\n",
              "    [theme=dark] .colab-df-convert:hover {\n",
              "      background-color: #434B5C;\n",
              "      box-shadow: 0px 1px 3px 1px rgba(0, 0, 0, 0.15);\n",
              "      filter: drop-shadow(0px 1px 2px rgba(0, 0, 0, 0.3));\n",
              "      fill: #FFFFFF;\n",
              "    }\n",
              "  </style>\n",
              "\n",
              "      <script>\n",
              "        const buttonEl =\n",
              "          document.querySelector('#df-32c8a472-fc17-4e5c-99f5-8ff83c543ca3 button.colab-df-convert');\n",
              "        buttonEl.style.display =\n",
              "          google.colab.kernel.accessAllowed ? 'block' : 'none';\n",
              "\n",
              "        async function convertToInteractive(key) {\n",
              "          const element = document.querySelector('#df-32c8a472-fc17-4e5c-99f5-8ff83c543ca3');\n",
              "          const dataTable =\n",
              "            await google.colab.kernel.invokeFunction('convertToInteractive',\n",
              "                                                     [key], {});\n",
              "          if (!dataTable) return;\n",
              "\n",
              "          const docLinkHtml = 'Like what you see? Visit the ' +\n",
              "            '<a target=\"_blank\" href=https://colab.research.google.com/notebooks/data_table.ipynb>data table notebook</a>'\n",
              "            + ' to learn more about interactive tables.';\n",
              "          element.innerHTML = '';\n",
              "          dataTable['output_type'] = 'display_data';\n",
              "          await google.colab.output.renderOutput(dataTable, element);\n",
              "          const docLink = document.createElement('div');\n",
              "          docLink.innerHTML = docLinkHtml;\n",
              "          element.appendChild(docLink);\n",
              "        }\n",
              "      </script>\n",
              "    </div>\n",
              "  </div>\n",
              "  "
            ]
          },
          "metadata": {},
          "execution_count": 11
        }
      ]
    },
    {
      "cell_type": "code",
      "metadata": {
        "id": "QD-T2c-VpUHq"
      },
      "source": [
        "#df_bin=df_bin.astype(int)"
      ],
      "execution_count": 12,
      "outputs": []
    },
    {
      "cell_type": "markdown",
      "metadata": {
        "id": "1TPIeXDg6QDG"
      },
      "source": [
        "## PCアルゴリズムを実施"
      ]
    },
    {
      "cell_type": "markdown",
      "metadata": {
        "id": "4TM2J5kq6GOx"
      },
      "source": [
        "## pgmpy（Python library for Probabilistic Graphical Models）によるPCアルゴリズム"
      ]
    },
    {
      "cell_type": "code",
      "metadata": {
        "id": "edNNPSLY6u6d",
        "colab": {
          "base_uri": "https://localhost:8080/"
        },
        "outputId": "7731d5fd-2e21-4c9b-de22-849d35267332"
      },
      "source": [
        "!pip install pgmpy==0.1.9"
      ],
      "execution_count": 13,
      "outputs": [
        {
          "output_type": "stream",
          "name": "stdout",
          "text": [
            "Collecting pgmpy==0.1.9\n",
            "  Downloading pgmpy-0.1.9-py3-none-any.whl (331 kB)\n",
            "\u001b[K     |████████████████████████████████| 331 kB 14.8 MB/s \n",
            "\u001b[?25hInstalling collected packages: pgmpy\n",
            "Successfully installed pgmpy-0.1.9\n"
          ]
        }
      ]
    },
    {
      "cell_type": "code",
      "metadata": {
        "id": "wAeHIJiqOF-h",
        "colab": {
          "base_uri": "https://localhost:8080/"
        },
        "outputId": "f423d595-30eb-44bc-f384-20aadaf9d474"
      },
      "source": [
        "from pgmpy.estimators import ConstraintBasedEstimator\n",
        "\n",
        "est = ConstraintBasedEstimator(df_bin)\n",
        "\n",
        "# 0次の独立性の検定\n",
        "print(est.test_conditional_independence(\n",
        "    'x', 'Z', method=\"chi_square\", tol=0.05))\n",
        "print(est.test_conditional_independence(\n",
        "    'x', 'Y', method=\"chi_square\", tol=0.05))\n",
        "print(est.test_conditional_independence(\n",
        "    'x', 'Y2', method=\"chi_square\", tol=0.05))\n",
        "print(est.test_conditional_independence(\n",
        "    'x', 'Y3', method=\"chi_square\", tol=0.05))\n",
        "print(est.test_conditional_independence(\n",
        "    'x', 'Y4', method=\"chi_square\", tol=0.05))\n",
        "print(\"=====\")\n",
        "print(est.test_conditional_independence(\n",
        "    'Z', 'Y', method=\"chi_square\", tol=0.05))\n",
        "print(est.test_conditional_independence(\n",
        "    'Z', 'Y2', method=\"chi_square\", tol=0.05))\n",
        "print(est.test_conditional_independence(\n",
        "    'Z', 'Y3', method=\"chi_square\", tol=0.05))\n",
        "print(est.test_conditional_independence(\n",
        "    'Z', 'Y4', method=\"chi_square\", tol=0.05))\n",
        "print(\"=====\")\n",
        "print(est.test_conditional_independence(\n",
        "    'Y', 'Y2', method=\"chi_square\", tol=0.05))\n",
        "print(est.test_conditional_independence(\n",
        "    'Y', 'Y3', method=\"chi_square\", tol=0.05))\n",
        "print(est.test_conditional_independence(\n",
        "    'Y', 'Y4', method=\"chi_square\", tol=0.05))\n",
        "print(\"=====\")\n",
        "print(est.test_conditional_independence(\n",
        "    'Y2', 'Y3', method=\"chi_square\", tol=0.05))\n",
        "print(est.test_conditional_independence(\n",
        "    'Y2', 'Y4', method=\"chi_square\", tol=0.05))\n",
        "print(\"=====\")\n",
        "print(est.test_conditional_independence(\n",
        "    'Y3', 'Y4', method=\"chi_square\", tol=0.05))\n",
        "print(\"=====\")\n"
      ],
      "execution_count": 14,
      "outputs": [
        {
          "output_type": "stream",
          "name": "stderr",
          "text": [
            "/usr/local/lib/python3.7/dist-packages/statsmodels/tools/_testing.py:19: FutureWarning: pandas.util.testing is deprecated. Use the functions in the public API at pandas.testing instead.\n",
            "  import pandas.util.testing as tm\n"
          ]
        },
        {
          "output_type": "stream",
          "name": "stdout",
          "text": [
            "False\n",
            "False\n",
            "True\n",
            "False\n",
            "False\n",
            "=====\n",
            "False\n",
            "True\n",
            "False\n",
            "False\n",
            "=====\n",
            "True\n",
            "False\n",
            "False\n",
            "=====\n",
            "False\n",
            "False\n",
            "=====\n",
            "False\n",
            "=====\n"
          ]
        }
      ]
    },
    {
      "cell_type": "code",
      "metadata": {
        "id": "sJQ2_9LY8MQ8",
        "colab": {
          "base_uri": "https://localhost:8080/"
        },
        "outputId": "56de1232-a853-42f2-e05a-0d3a2ff4845d"
      },
      "source": [
        "# 1次の独立性の検定 変数x\n",
        "print(est.test_conditional_independence(\n",
        "    'x', 'Z', ['Y'], method=\"chi_square\", tol=0.05))\n",
        "print(est.test_conditional_independence(\n",
        "    'x', 'Z', ['Y3'], method=\"chi_square\", tol=0.05))\n",
        "print(est.test_conditional_independence(\n",
        "    'x', 'Z', ['Y4'], method=\"chi_square\", tol=0.05))\n",
        "\n",
        "print(est.test_conditional_independence(\n",
        "    'x', 'Y', ['Z'], method=\"chi_square\", tol=0.05))\n",
        "print(est.test_conditional_independence(\n",
        "    'x', 'Y', ['Y3'], method=\"chi_square\", tol=0.05))\n",
        "print(est.test_conditional_independence(\n",
        "    'x', 'Y', ['Y4'], method=\"chi_square\", tol=0.05))\n",
        "\n",
        "print(est.test_conditional_independence(\n",
        "    'x', 'Y3', ['Z'], method=\"chi_square\", tol=0.05))\n",
        "print(est.test_conditional_independence(\n",
        "    'x', 'Y3', ['Y'], method=\"chi_square\", tol=0.05))\n",
        "print(est.test_conditional_independence(\n",
        "    'x', 'Y3', ['Y4'], method=\"chi_square\", tol=0.05))\n",
        "\n",
        "print(est.test_conditional_independence(\n",
        "    'x', 'Y4', ['Z'], method=\"chi_square\", tol=0.05))\n",
        "print(est.test_conditional_independence(\n",
        "    'x', 'Y4', ['Y'], method=\"chi_square\", tol=0.05))\n",
        "print(est.test_conditional_independence(\n",
        "    'x', 'Y4', ['Y3'], method=\"chi_square\", tol=0.05))\n"
      ],
      "execution_count": 15,
      "outputs": [
        {
          "output_type": "stream",
          "name": "stderr",
          "text": [
            "/usr/local/lib/python3.7/dist-packages/pgmpy/estimators/CITests.py:112: FutureWarning: Using the level keyword in DataFrame and Series aggregations is deprecated and will be removed in a future version. Use groupby instead. df.sum(level=1) should use df.groupby(level=1).sum().\n",
            "  XZ_state_counts = XYZ_state_counts.sum(axis=1, level=Z)  # marginalize out Y\n"
          ]
        },
        {
          "output_type": "stream",
          "name": "stdout",
          "text": [
            "False\n",
            "False\n",
            "False\n",
            "False\n",
            "False\n",
            "False\n",
            "False\n",
            "True\n",
            "True\n",
            "False\n",
            "True\n",
            "True\n"
          ]
        }
      ]
    },
    {
      "cell_type": "code",
      "metadata": {
        "id": "lo-4p3vBR6tH",
        "colab": {
          "base_uri": "https://localhost:8080/"
        },
        "outputId": "e4b94fd3-796a-422b-9551-77a4b20a588e"
      },
      "source": [
        "# 1次の独立性の検定 変数Z\n",
        "print(est.test_conditional_independence(\n",
        "    'Z', 'x', ['Y'], method=\"chi_square\", tol=0.05))\n",
        "print(est.test_conditional_independence(\n",
        "    'Z', 'x', ['Y3'], method=\"chi_square\", tol=0.05))\n",
        "print(est.test_conditional_independence(\n",
        "    'Z', 'x', ['Y4'], method=\"chi_square\", tol=0.05))\n",
        "\n",
        "print(est.test_conditional_independence(\n",
        "    'Z', 'Y', ['x'], method=\"chi_square\", tol=0.05))\n",
        "print(est.test_conditional_independence(\n",
        "    'Z', 'Y', ['Y3'], method=\"chi_square\", tol=0.05))\n",
        "print(est.test_conditional_independence(\n",
        "    'Z', 'Y', ['Y4'], method=\"chi_square\", tol=0.05))\n",
        "\n",
        "print(est.test_conditional_independence(\n",
        "    'Z', 'Y3', ['x'], method=\"chi_square\", tol=0.05))\n",
        "print(est.test_conditional_independence(\n",
        "    'Z', 'Y3', ['Y'], method=\"chi_square\", tol=0.05))\n",
        "print(est.test_conditional_independence(\n",
        "    'Z', 'Y3', ['Y4'], method=\"chi_square\", tol=0.05))\n",
        "\n",
        "print(est.test_conditional_independence(\n",
        "    'Z', 'Y4', ['x'], method=\"chi_square\", tol=0.05))\n",
        "print(est.test_conditional_independence(\n",
        "    'Z', 'Y4', ['Y'], method=\"chi_square\", tol=0.05))\n",
        "print(est.test_conditional_independence(\n",
        "    'Z', 'Y4', ['Y3'], method=\"chi_square\", tol=0.05))\n"
      ],
      "execution_count": 16,
      "outputs": [
        {
          "output_type": "stream",
          "name": "stdout",
          "text": [
            "False\n",
            "False\n"
          ]
        },
        {
          "output_type": "stream",
          "name": "stderr",
          "text": [
            "/usr/local/lib/python3.7/dist-packages/pgmpy/estimators/CITests.py:112: FutureWarning: Using the level keyword in DataFrame and Series aggregations is deprecated and will be removed in a future version. Use groupby instead. df.sum(level=1) should use df.groupby(level=1).sum().\n",
            "  XZ_state_counts = XYZ_state_counts.sum(axis=1, level=Z)  # marginalize out Y\n"
          ]
        },
        {
          "output_type": "stream",
          "name": "stdout",
          "text": [
            "False\n",
            "False\n",
            "False\n",
            "False\n",
            "False\n",
            "True\n",
            "False\n",
            "False\n",
            "True\n",
            "True\n"
          ]
        }
      ]
    },
    {
      "cell_type": "code",
      "metadata": {
        "id": "5ULve2thDTHu",
        "colab": {
          "base_uri": "https://localhost:8080/"
        },
        "outputId": "68044a2d-10a9-4528-e998-cb0f91de34d6"
      },
      "source": [
        "# 1次の独立性の検定 変数Y\n",
        "print(est.test_conditional_independence(\n",
        "    'Y', 'x', ['Z'], method=\"chi_square\", tol=0.05))\n",
        "print(est.test_conditional_independence(\n",
        "    'Y', 'x', ['Y3'], method=\"chi_square\", tol=0.05))\n",
        "print(est.test_conditional_independence(\n",
        "    'Y', 'x', ['Y4'], method=\"chi_square\", tol=0.05))\n",
        "\n",
        "print(est.test_conditional_independence(\n",
        "    'Y', 'Z', ['x'], method=\"chi_square\", tol=0.05))\n",
        "print(est.test_conditional_independence(\n",
        "    'Y', 'Z', ['Y3'], method=\"chi_square\", tol=0.05))\n",
        "print(est.test_conditional_independence(\n",
        "    'Y', 'Z', ['Y4'], method=\"chi_square\", tol=0.05))\n",
        "\n",
        "print(est.test_conditional_independence(\n",
        "    'Y', 'Y3', ['x'], method=\"chi_square\", tol=0.05))\n",
        "print(est.test_conditional_independence(\n",
        "    'Y', 'Y3', ['Z'], method=\"chi_square\", tol=0.05))\n",
        "print(est.test_conditional_independence(\n",
        "    'Y', 'Y3', ['Y4'], method=\"chi_square\", tol=0.05))\n",
        "\n",
        "print(est.test_conditional_independence(\n",
        "    'Y', 'Y4', ['x'], method=\"chi_square\", tol=0.05))\n",
        "print(est.test_conditional_independence(\n",
        "    'Y', 'Y4', ['Z'], method=\"chi_square\", tol=0.05))\n",
        "print(est.test_conditional_independence(\n",
        "    'Y', 'Y4', ['Y3'], method=\"chi_square\", tol=0.05))\n"
      ],
      "execution_count": 17,
      "outputs": [
        {
          "output_type": "stream",
          "name": "stdout",
          "text": [
            "False\n",
            "False\n"
          ]
        },
        {
          "output_type": "stream",
          "name": "stderr",
          "text": [
            "/usr/local/lib/python3.7/dist-packages/pgmpy/estimators/CITests.py:112: FutureWarning: Using the level keyword in DataFrame and Series aggregations is deprecated and will be removed in a future version. Use groupby instead. df.sum(level=1) should use df.groupby(level=1).sum().\n",
            "  XZ_state_counts = XYZ_state_counts.sum(axis=1, level=Z)  # marginalize out Y\n"
          ]
        },
        {
          "output_type": "stream",
          "name": "stdout",
          "text": [
            "False\n",
            "False\n",
            "False\n",
            "False\n",
            "False\n",
            "False\n",
            "False\n",
            "False\n",
            "False\n",
            "True\n"
          ]
        }
      ]
    },
    {
      "cell_type": "code",
      "metadata": {
        "id": "NP1Kr8BjS4Wf",
        "colab": {
          "base_uri": "https://localhost:8080/"
        },
        "outputId": "abaeb4ce-d69d-4809-ddb5-4b41b5beb50b"
      },
      "source": [
        "# 1次の独立性の検定 変数Y2\n",
        "print(est.test_conditional_independence(\n",
        "    'Y2', 'Y3', ['Y4'], method=\"chi_square\", tol=0.05))\n",
        "print(est.test_conditional_independence(\n",
        "    'Y2', 'Y4', ['Y3'], method=\"chi_square\", tol=0.05))\n"
      ],
      "execution_count": 18,
      "outputs": [
        {
          "output_type": "stream",
          "name": "stdout",
          "text": [
            "False\n",
            "True\n"
          ]
        },
        {
          "output_type": "stream",
          "name": "stderr",
          "text": [
            "/usr/local/lib/python3.7/dist-packages/pgmpy/estimators/CITests.py:112: FutureWarning: Using the level keyword in DataFrame and Series aggregations is deprecated and will be removed in a future version. Use groupby instead. df.sum(level=1) should use df.groupby(level=1).sum().\n",
            "  XZ_state_counts = XYZ_state_counts.sum(axis=1, level=Z)  # marginalize out Y\n"
          ]
        }
      ]
    },
    {
      "cell_type": "code",
      "metadata": {
        "id": "5qn5-JxwgJnE",
        "colab": {
          "base_uri": "https://localhost:8080/"
        },
        "outputId": "22e53ea1-7780-451d-d518-6e2bb0cd0316"
      },
      "source": [
        "# 1次の独立性の検定 変数Y\n",
        "print(est.test_conditional_independence(\n",
        "    'Y3', 'Y', ['Y2'], method=\"chi_square\", tol=0.05))\n",
        "print(est.test_conditional_independence(\n",
        "    'Y3', 'Y', ['Y4'], method=\"chi_square\", tol=0.05))\n",
        "\n",
        "print(est.test_conditional_independence(\n",
        "    'Y3', 'Y2', ['Y'], method=\"chi_square\", tol=0.05))\n",
        "print(est.test_conditional_independence(\n",
        "    'Y3', 'Y2', ['Y4'], method=\"chi_square\", tol=0.05))\n",
        "\n",
        "print(est.test_conditional_independence(\n",
        "    'Y3', 'Y4', ['Y'], method=\"chi_square\", tol=0.05))\n",
        "print(est.test_conditional_independence(\n",
        "    'Y3', 'Y4', ['Y2'], method=\"chi_square\", tol=0.05))\n"
      ],
      "execution_count": 19,
      "outputs": [
        {
          "output_type": "stream",
          "name": "stderr",
          "text": [
            "/usr/local/lib/python3.7/dist-packages/pgmpy/estimators/CITests.py:112: FutureWarning: Using the level keyword in DataFrame and Series aggregations is deprecated and will be removed in a future version. Use groupby instead. df.sum(level=1) should use df.groupby(level=1).sum().\n",
            "  XZ_state_counts = XYZ_state_counts.sum(axis=1, level=Z)  # marginalize out Y\n"
          ]
        },
        {
          "output_type": "stream",
          "name": "stdout",
          "text": [
            "False\n",
            "False\n",
            "False\n",
            "False\n",
            "False\n",
            "False\n"
          ]
        }
      ]
    },
    {
      "cell_type": "code",
      "metadata": {
        "id": "msKigC5iYWH-",
        "colab": {
          "base_uri": "https://localhost:8080/"
        },
        "outputId": "f54e6e01-1cde-46f3-f1fc-af79896574a1"
      },
      "source": [
        "# 2020年7月24日追記\n",
        "# 2次の独立性の検定 変数Y\n",
        "\n",
        "print(est.test_conditional_independence(\n",
        "    'Y', 'x', ['Z', 'Y3'], method=\"chi_square\", tol=0.05))\n",
        "print(est.test_conditional_independence(\n",
        "    'Y', 'Z', ['x', 'Y3'], method=\"chi_square\", tol=0.05))\n",
        "print(est.test_conditional_independence(\n",
        "    'Y', 'Y3', ['x', 'Z'], method=\"chi_square\", tol=0.05))\n"
      ],
      "execution_count": 27,
      "outputs": [
        {
          "output_type": "stream",
          "name": "stderr",
          "text": [
            "/usr/local/lib/python3.7/dist-packages/pgmpy/estimators/CITests.py:112: FutureWarning: Using the level keyword in DataFrame and Series aggregations is deprecated and will be removed in a future version. Use groupby instead. df.sum(level=1) should use df.groupby(level=1).sum().\n",
            "  XZ_state_counts = XYZ_state_counts.sum(axis=1, level=Z)  # marginalize out Y\n"
          ]
        },
        {
          "output_type": "stream",
          "name": "stdout",
          "text": [
            "False\n",
            "False\n",
            "False\n"
          ]
        }
      ]
    },
    {
      "cell_type": "code",
      "source": [
        "# 2020年7月24日追記\n",
        "# 2次の独立性の検定 変数Y\n",
        "\n",
        "print(est.test_conditional_independence(\n",
        "    'Y3', 'Y4', ['Y', 'Y2'], method=\"chi_square\", tol=0.05))\n",
        "print(est.test_conditional_independence(\n",
        "    'Y3', 'Y', ['Y4', 'Y2'], method=\"chi_square\", tol=0.05))\n",
        "print(est.test_conditional_independence(\n",
        "    'Y3', 'Y2', ['Y4', 'Y'], method=\"chi_square\", tol=0.05))\n"
      ],
      "metadata": {
        "colab": {
          "base_uri": "https://localhost:8080/"
        },
        "id": "n7zAzxzzIJ1i",
        "outputId": "c459e0eb-ec2a-4262-fd0e-a4763f8601c2"
      },
      "execution_count": 28,
      "outputs": [
        {
          "output_type": "stream",
          "name": "stderr",
          "text": [
            "/usr/local/lib/python3.7/dist-packages/pgmpy/estimators/CITests.py:112: FutureWarning: Using the level keyword in DataFrame and Series aggregations is deprecated and will be removed in a future version. Use groupby instead. df.sum(level=1) should use df.groupby(level=1).sum().\n",
            "  XZ_state_counts = XYZ_state_counts.sum(axis=1, level=Z)  # marginalize out Y\n"
          ]
        },
        {
          "output_type": "stream",
          "name": "stdout",
          "text": [
            "False\n",
            "False\n",
            "False\n"
          ]
        }
      ]
    },
    {
      "cell_type": "code",
      "metadata": {
        "id": "dFA5qoZ7Ldgg",
        "colab": {
          "base_uri": "https://localhost:8080/"
        },
        "outputId": "f704ffa8-6cbb-4842-d20e-83432ed6125d"
      },
      "source": [
        "# オリエンテーション・フェーズ1での方向づけ\n",
        "# x-Y-Y3\n",
        "print(est.test_conditional_independence(\n",
        "    'x', 'Y3', ['Y'], method=\"chi_square\", tol=0.05))\n",
        "\n",
        "# Z-Y-Y3\n",
        "print(est.test_conditional_independence(\n",
        "    'Z', 'Y3', ['Y'], method=\"chi_square\", tol=0.05))\n",
        "\n",
        "# Y-Y3-Y2\n",
        "print(est.test_conditional_independence(\n",
        "    'Y', 'Y2', ['Y3'], method=\"chi_square\", tol=0.05))\n",
        "\n",
        "# Y2-Y3-Y4\n",
        "print(est.test_conditional_independence(\n",
        "    'Y2', 'Y4', ['Y3'], method=\"chi_square\", tol=0.05))\n",
        "\n",
        "# Y -> Y3 <- Y2 だけ決まる\n"
      ],
      "execution_count": 21,
      "outputs": [
        {
          "output_type": "stream",
          "name": "stdout",
          "text": [
            "True\n",
            "True\n"
          ]
        },
        {
          "output_type": "stream",
          "name": "stderr",
          "text": [
            "/usr/local/lib/python3.7/dist-packages/pgmpy/estimators/CITests.py:112: FutureWarning: Using the level keyword in DataFrame and Series aggregations is deprecated and will be removed in a future version. Use groupby instead. df.sum(level=1) should use df.groupby(level=1).sum().\n",
            "  XZ_state_counts = XYZ_state_counts.sum(axis=1, level=Z)  # marginalize out Y\n"
          ]
        },
        {
          "output_type": "stream",
          "name": "stdout",
          "text": [
            "False\n",
            "True\n"
          ]
        }
      ]
    },
    {
      "cell_type": "code",
      "metadata": {
        "id": "kMW1M3YbMi3h",
        "colab": {
          "base_uri": "https://localhost:8080/"
        },
        "outputId": "5358e107-574e-4235-d2a7-ed3c8efa801b"
      },
      "source": [
        "# 最後上の三角形が決まらない\n",
        "# BICを求め、比較\n",
        "from pgmpy.models import BayesianModel\n",
        "from pgmpy.estimators import BicScore\n",
        "\n",
        "model = BayesianModel([('x', 'Z'), ('x', 'Y'), ('Z', 'Y'), ('Y', 'Y3'), ('Y2', 'Y3'), ('Y3', 'Y4')])  \n",
        "print(BicScore(df_bin).score(model))\n",
        "\n",
        "model = BayesianModel([('x', 'Z'), ('x', 'Y'), ('Y', 'Z'), ('Y', 'Y3'), ('Y2', 'Y3'), ('Y3', 'Y4')])  \n",
        "print(BicScore(df_bin).score(model))\n",
        "\n",
        "model = BayesianModel([('Z', 'x'), ('Z', 'Y'), ('x', 'Y'), ('Y', 'Y3'), ('Y2', 'Y3'), ('Y3', 'Y4')])  \n",
        "print(BicScore(df_bin).score(model))\n",
        "\n",
        "model = BayesianModel([('Z', 'x'), ('Z', 'Y'), ('Y', 'x'), ('Y', 'Y3'), ('Y2', 'Y3'), ('Y3', 'Y4')])  \n",
        "print(BicScore(df_bin).score(model))\n",
        "\n",
        "model = BayesianModel([('Y', 'x'), ('Y', 'Z'), ('x', 'Z'), ('Y', 'Y3'), ('Y2', 'Y3'), ('Y3', 'Y4')])  \n",
        "print(BicScore(df_bin).score(model))\n",
        "\n",
        "model = BayesianModel([('Y', 'x'), ('Y', 'Z'), ('Z', 'x'), ('Y', 'Y3'), ('Y2', 'Y3'), ('Y3', 'Y4')])  \n",
        "print(BicScore(df_bin).score(model))"
      ],
      "execution_count": 22,
      "outputs": [
        {
          "output_type": "stream",
          "name": "stdout",
          "text": [
            "-11613.498344787251\n",
            "-11613.498344787251\n",
            "-11613.498344787251\n",
            "-11613.498344787251\n",
            "-11613.498344787251\n",
            "-11613.498344787251\n"
          ]
        }
      ]
    },
    {
      "cell_type": "code",
      "metadata": {
        "id": "DP8gHiu7lBDi"
      },
      "source": [
        "# 最後は限られたデータから無理に因果の方向性を決めようとせず、時間的に考えて、無難な方向性を当てはめる"
      ],
      "execution_count": 23,
      "outputs": []
    },
    {
      "cell_type": "code",
      "metadata": {
        "id": "HWvE9F0nfWKv",
        "colab": {
          "base_uri": "https://localhost:8080/"
        },
        "outputId": "b917a2c0-ac40-4bd8-904a-8d063b5bc2e1"
      },
      "source": [
        "# 2020年7月24日追記\n",
        "# pgmpyでPCアルゴリズムの実行\n",
        "\n",
        "skel, seperating_sets = est.estimate_skeleton(significance_level=0.05)\n",
        "print(\"Undirected edges: \", skel.edges())\n",
        "\n",
        "pdag = est.skeleton_to_pdag(skel, seperating_sets)\n",
        "print(\"PDAG edges:       \", pdag.edges())\n",
        "\n",
        "model = est.pdag_to_dag(pdag)\n",
        "print(\"DAG edges:        \", model.edges())\n"
      ],
      "execution_count": 24,
      "outputs": [
        {
          "output_type": "stream",
          "name": "stderr",
          "text": [
            "/usr/local/lib/python3.7/dist-packages/pgmpy/estimators/CITests.py:112: FutureWarning: Using the level keyword in DataFrame and Series aggregations is deprecated and will be removed in a future version. Use groupby instead. df.sum(level=1) should use df.groupby(level=1).sum().\n",
            "  XZ_state_counts = XYZ_state_counts.sum(axis=1, level=Z)  # marginalize out Y\n"
          ]
        },
        {
          "output_type": "stream",
          "name": "stdout",
          "text": [
            "Undirected edges:  [('x', 'Z'), ('x', 'Y'), ('Z', 'Y'), ('Y', 'Y3'), ('Y2', 'Y3'), ('Y3', 'Y4')]\n",
            "PDAG edges:        [('x', 'Z'), ('x', 'Y'), ('Z', 'x'), ('Z', 'Y'), ('Y', 'Z'), ('Y2', 'Y3'), ('Y3', 'Y4'), ('Y4', 'Y3')]\n",
            "DAG edges:         [('x', 'Y'), ('Z', 'Y'), ('Z', 'x'), ('Y2', 'Y3'), ('Y3', 'Y4')]\n"
          ]
        }
      ]
    },
    {
      "cell_type": "markdown",
      "metadata": {
        "id": "VQs6FwtelB2E"
      },
      "source": [
        "## ベイジアンネットワークでの推論"
      ]
    },
    {
      "cell_type": "code",
      "metadata": {
        "id": "_OGwPSHbjOV1",
        "colab": {
          "base_uri": "https://localhost:8080/"
        },
        "outputId": "7d391dfc-4b0f-4c66-f36c-53c28172f517"
      },
      "source": [
        "from pgmpy.models import BayesianModel\n",
        "from pgmpy.inference import VariableElimination\n",
        "\n",
        "# モデルを構築\n",
        "model = BayesianModel([('x', 'Z'), ('x', 'Y'), ('Z', 'Y'),\n",
        "                       ('Y', 'Y3'), ('Y2', 'Y3'), ('Y3', 'Y4')])\n",
        "# モデルにデータを与える\n",
        "model.fit(df_bin)\n",
        "\n",
        "# 変数消去アルゴリズムで推論\n",
        "infer = VariableElimination(model)\n",
        "obserbed_data = {'Z': 0, 'Y3': 3}  # 観測できているデータの一例\n",
        "x_dist = infer.query(['x'], evidence=obserbed_data)\n",
        "print(x_dist)\n",
        "print(\"=====================\")\n",
        "obserbed_data = {'Z': 1, 'Y3': 3}  # 観測できているデータの一例\n",
        "x_dist = infer.query(['x'], evidence=obserbed_data)\n",
        "print(x_dist)\n",
        "print(\"=====================\")\n",
        "obserbed_data = {'Z': 1, 'Y3': 5}  # 観測できているデータの一例\n",
        "x_dist = infer.query(['x'], evidence=obserbed_data)\n",
        "print(x_dist)\n"
      ],
      "execution_count": 25,
      "outputs": [
        {
          "output_type": "stream",
          "name": "stderr",
          "text": [
            "Finding Elimination Order: : 100%|██████████| 3/3 [00:00<00:00, 1064.54it/s]\n",
            "Eliminating: Y: 100%|██████████| 3/3 [00:00<00:00, 545.02it/s]\n"
          ]
        },
        {
          "output_type": "stream",
          "name": "stdout",
          "text": [
            "+------+----------+\n",
            "| x    |   phi(x) |\n",
            "+======+==========+\n",
            "| x(1) |   0.0484 |\n",
            "+------+----------+\n",
            "| x(2) |   0.0915 |\n",
            "+------+----------+\n",
            "| x(3) |   0.1958 |\n",
            "+------+----------+\n",
            "| x(4) |   0.2735 |\n",
            "+------+----------+\n",
            "| x(5) |   0.3908 |\n",
            "+------+----------+\n",
            "=====================\n"
          ]
        },
        {
          "output_type": "stream",
          "name": "stderr",
          "text": [
            "Finding Elimination Order: : 100%|██████████| 3/3 [00:00<00:00, 1177.73it/s]\n",
            "Eliminating: Y: 100%|██████████| 3/3 [00:00<00:00, 421.31it/s]\n"
          ]
        },
        {
          "output_type": "stream",
          "name": "stdout",
          "text": [
            "+------+----------+\n",
            "| x    |   phi(x) |\n",
            "+======+==========+\n",
            "| x(1) |   0.3587 |\n",
            "+------+----------+\n",
            "| x(2) |   0.2370 |\n",
            "+------+----------+\n",
            "| x(3) |   0.2413 |\n",
            "+------+----------+\n",
            "| x(4) |   0.1187 |\n",
            "+------+----------+\n",
            "| x(5) |   0.0444 |\n",
            "+------+----------+\n",
            "=====================\n"
          ]
        },
        {
          "output_type": "stream",
          "name": "stderr",
          "text": [
            "Finding Elimination Order: : 100%|██████████| 3/3 [00:00<00:00, 1145.36it/s]\n",
            "Eliminating: Y: 100%|██████████| 3/3 [00:00<00:00, 188.08it/s]"
          ]
        },
        {
          "output_type": "stream",
          "name": "stdout",
          "text": [
            "+------+----------+\n",
            "| x    |   phi(x) |\n",
            "+======+==========+\n",
            "| x(1) |   0.0070 |\n",
            "+------+----------+\n",
            "| x(2) |   0.0101 |\n",
            "+------+----------+\n",
            "| x(3) |   0.0521 |\n",
            "+------+----------+\n",
            "| x(4) |   0.2781 |\n",
            "+------+----------+\n",
            "| x(5) |   0.6527 |\n",
            "+------+----------+\n"
          ]
        },
        {
          "output_type": "stream",
          "name": "stderr",
          "text": [
            "\n"
          ]
        }
      ]
    },
    {
      "cell_type": "code",
      "metadata": {
        "id": "UNbNZ8DFuQNF"
      },
      "source": [
        "# 以下はファイルをダウンロードしたい場合に使用\n",
        "\n",
        "# from google.colab import files\n",
        "# df_bin.to_csv(\"df_bin.csv\")\n",
        "# files.download('df_bin.csv')\n"
      ],
      "execution_count": 26,
      "outputs": []
    },
    {
      "cell_type": "markdown",
      "metadata": {
        "id": "MGNG7pzi8LI6"
      },
      "source": [
        "以上"
      ]
    },
    {
      "cell_type": "code",
      "source": [
        ""
      ],
      "metadata": {
        "id": "9P_CJ3U5Fnjh"
      },
      "execution_count": null,
      "outputs": []
    }
  ]
}